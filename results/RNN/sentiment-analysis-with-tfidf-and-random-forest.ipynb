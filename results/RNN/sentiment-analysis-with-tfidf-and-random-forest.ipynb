{
 "cells": [
  {
   "cell_type": "code",
   "execution_count": 2,
   "metadata": {
    "_cell_guid": "b1076dfc-b9ad-4769-8c92-a6c4dae69d19",
    "_uuid": "8f2839f25d086af736a60e9eeb907d3b93b6e0e5"
   },
   "outputs": [],
   "source": [
    "# This Python 3 environment comes with many helpful analytics libraries installed\n",
    "# It is defined by the kaggle/python Docker image: https://github.com/kaggle/docker-python\n",
    "# For example, here's several helpful packages to load\n",
    "\n",
    "import numpy as np # linear algebra\n",
    "import pandas as pd # data processing, CSV file I/O (e.g. pd.read_csv)\n",
    "import seaborn as sns\n",
    "import matplotlib.pyplot as plt\n",
    "import re\n",
    "import nltk\n",
    "%matplotlib inline\n",
    "\n",
    "# Input data files are available in the read-only \"../input/\" directory\n",
    "# For example, running this (by clicking run or pressing Shift+Enter) will list all files under the input directory\n",
    "\n",
    "import os\n",
    "for dirname, _, filenames in os.walk('./achieve/'):\n",
    "    for filename in filenames:\n",
    "        print(os.path.join(dirname, filename))\n",
    "\n",
    "# You can write up to 5GB to the current directory (/kaggle/working/) that gets preserved as output when you create a version using \"Save & Run All\" \n",
    "# You can also write temporary files to /kaggle/temp/, but they won't be saved outside of the current session"
   ]
  },
  {
   "cell_type": "markdown",
   "metadata": {},
   "source": [
    "# Sentiment Analysis with TFIDF and Random Forest\n",
    "\n",
    "This notebook creates a Random Forest Classifier for Sentiment Analysis using NLP techniques and TFIDF features. The dataset used consists of movie reviews from IMDB that have been labelled with a positive (1) or negative(0) label.\n",
    "\n",
    "This notebook includes the following:\n",
    "1. Dataset splitting\n",
    "2. WordClouds\n",
    "3. Text pre-processing and cleaning\n",
    "4. Vectorizing with Tfidf\n",
    "5. Random Forest classification\n",
    "6. Hyperparameter tuning using GridSearchCV\n",
    "7. Evaluation of Validation and Test Set\n",
    "8. Most significant features for prediction\n",
    "\n",
    "First, we will see what's in our dataset."
   ]
  },
  {
   "cell_type": "code",
   "execution_count": 3,
   "metadata": {
    "_cell_guid": "79c7e3d0-c299-4dcb-8224-4455121ee9b0",
    "_uuid": "d629ff2d2480ee46fbb7e2d37f6b5fab8052498a"
   },
   "outputs": [
    {
     "name": "stdout",
     "output_type": "stream",
     "text": [
      "<class 'pandas.core.frame.DataFrame'>\n",
      "RangeIndex: 40000 entries, 0 to 39999\n",
      "Data columns (total 2 columns):\n",
      " #   Column  Non-Null Count  Dtype \n",
      "---  ------  --------------  ----- \n",
      " 0   text    40000 non-null  object\n",
      " 1   label   40000 non-null  int64 \n",
      "dtypes: int64(1), object(1)\n",
      "memory usage: 625.1+ KB\n",
      "None\n",
      "(40000, 2)\n",
      "                                                text  label\n",
      "0  I grew up (b. 1965) watching and loving the Th...      0\n",
      "1  When I put this movie in my DVD player, and sa...      0\n",
      "2  Why do people who do not know what a particula...      0\n",
      "3  Even though I have great interest in Biblical ...      0\n",
      "4  Im a die hard Dads Army fan and nothing will e...      1\n",
      "5  A terrible movie as everyone has said. What ma...      0\n",
      "6  Finally watched this shocking movie last night...      1\n",
      "7  I caught this film on AZN on cable. It sounded...      0\n",
      "8  It may be the remake of 1987 Autumn's Tale aft...      1\n",
      "9  My Super Ex Girlfriend turned out to be a plea...      1\n"
     ]
    },
    {
     "data": {
      "image/png": "[encoded data removed]",
      "text/plain": [
       "<Figure size 432x432 with 1 Axes>"
      ]
     },
     "metadata": {},
     "output_type": "display_data"
    }
   ],
   "source": [
    "imdb=pd.read_csv('./archive/Train.csv')\n",
    "print(imdb.info())\n",
    "print(imdb.shape)\n",
    "print(imdb.head(10))\n",
    "\n",
    "imdb['label'].value_counts().plot.pie(figsize=(6,6),title=\"Distribution of reviews per sentiment\",labels=['',''],autopct='%1.1f%%')\n",
    "labels=[\"Positive\",\"Negative\"]\n",
    "plt.legend(labels,loc=3)\n",
    "plt.gca().set_aspect('equal')"
   ]
  },
  {
   "cell_type": "markdown",
   "metadata": {},
   "source": [
    "We can see there are 40000 entries and there's not a single null value. The dataset comprises movie reviews with a positive (1) or negative (0) value equally distributed. SInce there are too many examples for our computation capacity, we'll split the dataset and reduce it. \n",
    "\n",
    "First, we'll reduce the data set to 10% and then we'll keep 50% for the training set and 25% both for the validation and the test set."
   ]
  },
  {
   "cell_type": "code",
   "execution_count": 4,
   "metadata": {},
   "outputs": [
    {
     "name": "stdout",
     "output_type": "stream",
     "text": [
      "Data distribution:\n",
      "- Train: 2000 \n",
      "- Validation: 1000 \n",
      "- Test: 1000\n"
     ]
    }
   ],
   "source": [
    "from sklearn.model_selection import train_test_split\n",
    "\n",
    "features = imdb.drop(\"label\",axis=1)\n",
    "labels = imdb[\"label\"]\n",
    "\n",
    "X_train, X_test, y_train, y_test = train_test_split(features,labels,test_size = 0.90, random_state=42)\n",
    "X_train, X_test, y_train, y_test = train_test_split(X_train,y_train,test_size = 0.5, random_state=42)\n",
    "X_val, X_test, y_val, y_test = train_test_split(X_test,y_test,test_size = 0.5, random_state=42)\n",
    "\n",
    "print(\"Data distribution:\\n- Train: {} \\n- Validation: {} \\n- Test: {}\".format(len(y_train),len(y_val),len(y_test)))"
   ]
  },
  {
   "cell_type": "markdown",
   "metadata": {},
   "source": [
    "\n",
    "Now let's create a function that will pre-process and clean the data. It does the following:\n",
    "* Tokenize sentences\n",
    "* Remove capital letters\n",
    "* Remove stopwords\n",
    "* Remove non-alphanumeric characters\n",
    "* Lemmatize the tokens"
   ]
  },
  {
   "cell_type": "code",
   "execution_count": 5,
   "metadata": {},
   "outputs": [],
   "source": [
    "def clean(text):\n",
    "    wn = nltk.WordNetLemmatizer()\n",
    "    stopword = nltk.corpus.stopwords.words('english')\n",
    "    tokens = nltk.word_tokenize(text)\n",
    "    lower = [word.lower() for word in tokens]\n",
    "    no_stopwords = [word for word in lower if word not in stopword]\n",
    "    no_alpha = [word for word in no_stopwords if word.isalpha()]\n",
    "    lemm_text = [wn.lemmatize(word) for word in no_alpha]\n",
    "    clean_text = lemm_text\n",
    "    return clean_text"
   ]
  },
  {
   "cell_type": "markdown",
   "metadata": {},
   "source": [
    "Now that we've cleaned our data, let's explore it.\n",
    "\n",
    "We create lists for positive and negative words and then visualize the most common ones with WordClouds."
   ]
  },
  {
   "cell_type": "code",
   "execution_count": 6,
   "metadata": {},
   "outputs": [
    {
     "ename": "ModuleNotFoundError",
     "evalue": "No module named 'wordcloud'",
     "output_type": "error",
     "traceback": [
      "\u001b[0;31m---------------------------------------------------------------------------\u001b[0m",
      "\u001b[0;31mModuleNotFoundError\u001b[0m                       Traceback (most recent call last)",
      "\u001b[0;32m/var/folders/92/lnpv663963531g350q66gj300000gn/T/ipykernel_52601/115934588.py\u001b[0m in \u001b[0;36m<module>\u001b[0;34m\u001b[0m\n\u001b[0;32m----> 1\u001b[0;31m \u001b[0;32mfrom\u001b[0m \u001b[0mwordcloud\u001b[0m \u001b[0;32mimport\u001b[0m \u001b[0mWordCloud\u001b[0m\u001b[0;34m\u001b[0m\u001b[0;34m\u001b[0m\u001b[0m\n\u001b[0m\u001b[1;32m      2\u001b[0m \u001b[0;32mfrom\u001b[0m \u001b[0mcollections\u001b[0m \u001b[0;32mimport\u001b[0m \u001b[0mCounter\u001b[0m\u001b[0;34m\u001b[0m\u001b[0;34m\u001b[0m\u001b[0m\n\u001b[1;32m      3\u001b[0m \u001b[0;34m\u001b[0m\u001b[0m\n\u001b[1;32m      4\u001b[0m \u001b[0;32mdef\u001b[0m \u001b[0mgenerate_wordcloud\u001b[0m\u001b[0;34m(\u001b[0m\u001b[0mwords\u001b[0m\u001b[0;34m,\u001b[0m\u001b[0msentiment\u001b[0m\u001b[0;34m)\u001b[0m\u001b[0;34m:\u001b[0m\u001b[0;34m\u001b[0m\u001b[0;34m\u001b[0m\u001b[0m\n\u001b[1;32m      5\u001b[0m     \u001b[0mplt\u001b[0m\u001b[0;34m.\u001b[0m\u001b[0mfigure\u001b[0m\u001b[0;34m(\u001b[0m\u001b[0mfigsize\u001b[0m\u001b[0;34m=\u001b[0m\u001b[0;34m(\u001b[0m\u001b[0;36m16\u001b[0m\u001b[0;34m,\u001b[0m\u001b[0;36m13\u001b[0m\u001b[0;34m)\u001b[0m\u001b[0;34m)\u001b[0m\u001b[0;34m\u001b[0m\u001b[0;34m\u001b[0m\u001b[0m\n",
      "\u001b[0;31mModuleNotFoundError\u001b[0m: No module named 'wordcloud'"
     ]
    }
   ],
   "source": [
    "from wordcloud import WordCloud\n",
    "from collections import Counter\n",
    "\n",
    "def generate_wordcloud(words,sentiment):\n",
    "    plt.figure(figsize=(16,13))\n",
    "    wc = WordCloud(background_color=\"white\", max_words=100, max_font_size=50)\n",
    "    wc.generate(words)\n",
    "    plt.title(\"Most common {} words\".format(sentiment), fontsize=20)\n",
    "    plt.imshow(wc.recolor(colormap='Pastel2', random_state=17), alpha=0.98)\n",
    "    plt.axis('off')\n",
    "    \n",
    "imdb=imdb.head(1000)\n",
    "print(\"Processing data...\")\n",
    "imdb['clean']=imdb['text'].map(clean)\n",
    "imdb['clean_text']=imdb['clean'].apply(lambda x: \" \".join([str(word) for word in x]))\n",
    "\n",
    "print(\"Creating word clouds...\")\n",
    "positive_words=\" \".join(imdb[imdb.label==1]['clean_text'].values)\n",
    "negative_words=\" \".join(imdb[imdb.label==0]['clean_text'].values)\n",
    "\n",
    "generate_wordcloud(positive_words,\"positive\")\n",
    "generate_wordcloud(negative_words,\"negative\")"
   ]
  },
  {
   "cell_type": "markdown",
   "metadata": {},
   "source": [
    "Now that we explored our data, this function will turn it into a matrix for our analysis by using the TfidfVectorizer."
   ]
  },
  {
   "cell_type": "code",
   "execution_count": 7,
   "metadata": {},
   "outputs": [],
   "source": [
    "from sklearn.feature_extraction.text import TfidfVectorizer\n",
    "\n",
    "def vectorize(data,tfidf_vect_fit):\n",
    "    X_tfidf = tfidf_vect_fit.transform(data)\n",
    "    words = tfidf_vect_fit.get_feature_names()\n",
    "    X_tfidf_df = pd.DataFrame(X_tfidf.toarray())\n",
    "    X_tfidf_df.columns = words\n",
    "    return(X_tfidf_df)"
   ]
  },
  {
   "cell_type": "code",
   "execution_count": 8,
   "metadata": {},
   "outputs": [],
   "source": [
    "tfidf_vect = TfidfVectorizer(analyzer=clean)\n",
    "tfidf_vect_fit=tfidf_vect.fit(X_train['text'])\n",
    "X_train=vectorize(X_train['text'],tfidf_vect_fit)"
   ]
  },
  {
   "cell_type": "markdown",
   "metadata": {},
   "source": [
    "We explore first results of a Random Forest Classifier without any hyperparameter tuning using 5-cross-fold validation."
   ]
  },
  {
   "cell_type": "code",
   "execution_count": 19,
   "metadata": {},
   "outputs": [],
   "source": [
    "from sklearn.ensemble import RandomForestClassifier\n",
    "from sklearn.model_selection import cross_val_score\n",
    "\n",
    "rf = RandomForestClassifier()\n",
    "scores = cross_val_score(rf,X_train,y_train.values.ravel(),cv=5)"
   ]
  },
  {
   "cell_type": "code",
   "execution_count": 10,
   "metadata": {},
   "outputs": [
    {
     "name": "stdout",
     "output_type": "stream",
     "text": [
      "[0.82   0.785  0.7975 0.815  0.7875]\n"
     ]
    },
    {
     "data": {
      "text/plain": [
       "0.8009999999999999"
      ]
     },
     "execution_count": 10,
     "metadata": {},
     "output_type": "execute_result"
    }
   ],
   "source": [
    "print(scores)\n",
    "scores.mean()"
   ]
  },
  {
   "cell_type": "code",
   "execution_count": 17,
   "metadata": {},
   "outputs": [
    {
     "data": {
      "text/plain": [
       "Index(['aaaahhhhhhh', 'aag', 'aaliyah', 'aamir', 'aaron', 'aawip', 'ab',\n",
       "       'abandon', 'abandoned', 'abandonment',\n",
       "       ...\n",
       "       'zzzz', 'zzzzzzzz', 'zzzzzzzzzzzzzzzzzzzzzzzzzzzzzzz',\n",
       "       'zzzzzzzzzzzzzzzzzzzzzzzzzzzzzzzzzzzzzzzzz',\n",
       "       'zzzzzzzzzzzzzzzzzzzzzzzzzzzzzzzzzzzzzzzzzzzz', 'zübert', 'à', 'ís',\n",
       "       'óli', 'über'],\n",
       "      dtype='object', length=21657)"
      ]
     },
     "execution_count": 17,
     "metadata": {},
     "output_type": "execute_result"
    }
   ],
   "source": [
    "X_train.columns"
   ]
  },
  {
   "cell_type": "code",
   "execution_count": 16,
   "metadata": {},
   "outputs": [
    {
     "name": "stdout",
     "output_type": "stream",
     "text": [
      "aaaahhhhhhh    0.0\n",
      "aag            0.0\n",
      "aaliyah        0.0\n",
      "aamir          0.0\n",
      "aaron          0.0\n",
      "              ... \n",
      "zübert         0.0\n",
      "à              0.0\n",
      "ís             0.0\n",
      "óli            0.0\n",
      "über           0.0\n",
      "Name: 0, Length: 21657, dtype: float64\n"
     ]
    }
   ],
   "source": [
    "print(X_train.iloc[0])"
   ]
  },
  {
   "cell_type": "markdown",
   "metadata": {},
   "source": [
    "Now we'll do some hyperparameter tuning using GridSearchCV."
   ]
  },
  {
   "cell_type": "code",
   "execution_count": 46,
   "metadata": {},
   "outputs": [],
   "source": [
    "def print_results(results):\n",
    "    print('BEST PARAMS: {}\\n'.format(results.best_params_))\n",
    "\n",
    "    means = results.cv_results_['mean_test_score']\n",
    "    stds = results.cv_results_['std_test_score']\n",
    "    for mean, std, params in zip(means, stds, results.cv_results_['params']):\n",
    "        print('{} (+/-{}) for {}'.format(round(mean, 3), round(std * 2, 3), params))"
   ]
  },
  {
   "cell_type": "code",
   "execution_count": 47,
   "metadata": {},
   "outputs": [
    {
     "name": "stdout",
     "output_type": "stream",
     "text": [
      "BEST PARAMS: {'max_depth': 20, 'n_estimators': 100}\n",
      "\n",
      "0.551 (+/-0.058) for {'max_depth': 2, 'n_estimators': 5}\n",
      "0.677 (+/-0.066) for {'max_depth': 2, 'n_estimators': 50}\n",
      "0.742 (+/-0.047) for {'max_depth': 2, 'n_estimators': 100}\n",
      "0.641 (+/-0.034) for {'max_depth': 10, 'n_estimators': 5}\n",
      "0.758 (+/-0.035) for {'max_depth': 10, 'n_estimators': 50}\n",
      "0.776 (+/-0.043) for {'max_depth': 10, 'n_estimators': 100}\n",
      "0.65 (+/-0.08) for {'max_depth': 20, 'n_estimators': 5}\n",
      "0.774 (+/-0.049) for {'max_depth': 20, 'n_estimators': 50}\n",
      "0.8 (+/-0.052) for {'max_depth': 20, 'n_estimators': 100}\n",
      "0.638 (+/-0.043) for {'max_depth': None, 'n_estimators': 5}\n",
      "0.784 (+/-0.03) for {'max_depth': None, 'n_estimators': 50}\n",
      "0.794 (+/-0.039) for {'max_depth': None, 'n_estimators': 100}\n"
     ]
    }
   ],
   "source": [
    "from sklearn.model_selection import GridSearchCV\n",
    "\n",
    "rf = RandomForestClassifier()\n",
    "parameters = {\n",
    "    'n_estimators': [5,50,100],\n",
    "    'max_depth': [2,10,20,None]\n",
    "}\n",
    "\n",
    "cv = GridSearchCV(rf,parameters)\n",
    "cv.fit(X_train,y_train.values.ravel())\n",
    "print_results(cv)"
   ]
  },
  {
   "cell_type": "code",
   "execution_count": 48,
   "metadata": {},
   "outputs": [
    {
     "data": {
      "text/plain": [
       "RandomForestClassifier(bootstrap=True, ccp_alpha=0.0, class_weight=None,\n",
       "                       criterion='gini', max_depth=20, max_features='auto',\n",
       "                       max_leaf_nodes=None, max_samples=None,\n",
       "                       min_impurity_decrease=0.0, min_impurity_split=None,\n",
       "                       min_samples_leaf=1, min_samples_split=2,\n",
       "                       min_weight_fraction_leaf=0.0, n_estimators=100,\n",
       "                       n_jobs=None, oob_score=False, random_state=None,\n",
       "                       verbose=0, warm_start=False)"
      ]
     },
     "execution_count": 48,
     "metadata": {},
     "output_type": "execute_result"
    }
   ],
   "source": [
    "cv.best_estimator_"
   ]
  },
  {
   "cell_type": "markdown",
   "metadata": {},
   "source": [
    "For the evaluation of the validation set, first we need to transform it using the same features as the training set. Then, we can evaluate our best models from CV on it."
   ]
  },
  {
   "cell_type": "code",
   "execution_count": 76,
   "metadata": {},
   "outputs": [],
   "source": [
    "X_val=vectorize(X_val['text'],tfidf_vect_fit)"
   ]
  },
  {
   "cell_type": "code",
   "execution_count": 70,
   "metadata": {},
   "outputs": [
    {
     "data": {
      "text/plain": [
       "RandomForestClassifier(bootstrap=True, ccp_alpha=0.0, class_weight=None,\n",
       "                       criterion='gini', max_depth=None, max_features='auto',\n",
       "                       max_leaf_nodes=None, max_samples=None,\n",
       "                       min_impurity_decrease=0.0, min_impurity_split=None,\n",
       "                       min_samples_leaf=1, min_samples_split=2,\n",
       "                       min_weight_fraction_leaf=0.0, n_estimators=5,\n",
       "                       n_jobs=None, oob_score=False, random_state=None,\n",
       "                       verbose=0, warm_start=False)"
      ]
     },
     "execution_count": 70,
     "metadata": {},
     "output_type": "execute_result"
    }
   ],
   "source": [
    "rf1 = RandomForestClassifier(n_estimators=100,max_depth=20)\n",
    "rf1.fit(X_train, y_train.values.ravel())\n",
    "rf2 = RandomForestClassifier(n_estimators=100,max_depth=None)\n",
    "rf2.fit(X_train, y_train.values.ravel())\n",
    "rf3 = RandomForestClassifier(n_estimators=5,max_depth=None)\n",
    "rf3.fit(X_train, y_train.values.ravel())"
   ]
  },
  {
   "cell_type": "code",
   "execution_count": 78,
   "metadata": {},
   "outputs": [
    {
     "name": "stdout",
     "output_type": "stream",
     "text": [
      "MAX DEPTH: 20 / # OF EST: 100 -- A: 0.81 / P: 0.804 / R: 0.808\n",
      "MAX DEPTH: None / # OF EST: 100 -- A: 0.815 / P: 0.814 / R: 0.806\n",
      "MAX DEPTH: None / # OF EST: 5 -- A: 0.686 / P: 0.692 / R: 0.644\n"
     ]
    }
   ],
   "source": [
    "from sklearn.metrics import accuracy_score,precision_score,recall_score\n",
    "\n",
    "for mdl in [rf1,rf2,rf3]:\n",
    "    y_pred = mdl.predict(X_val)\n",
    "    accuracy = round(accuracy_score(y_val,y_pred), 3)\n",
    "    precision = round(precision_score(y_val,y_pred), 3)\n",
    "    recall = round(recall_score(y_val,y_pred), 3)\n",
    "    print('MAX DEPTH: {} / # OF EST: {} -- A: {} / P: {} / R: {}'.format(mdl.max_depth,\n",
    "                                                                         mdl.n_estimators,\n",
    "                                                                         accuracy,\n",
    "                                                                         precision,\n",
    "                                                                         recall))\n"
   ]
  },
  {
   "cell_type": "markdown",
   "metadata": {},
   "source": [
    "Finally, we can see the the best model is the second one:\n",
    "\n",
    "**MAX DEPTH: None / # OF EST: 100**\n",
    "\n",
    "So now we will evaluate the best model on the test set."
   ]
  },
  {
   "cell_type": "code",
   "execution_count": 80,
   "metadata": {},
   "outputs": [
    {
     "name": "stdout",
     "output_type": "stream",
     "text": [
      "MAX DEPTH: None / # OF EST: 5 -- A: 0.835 / P: 0.845 / R: 0.804\n"
     ]
    }
   ],
   "source": [
    "X_test=vectorize(X_test['text'],tfidf_vect_fit)\n",
    "\n",
    "y_pred = rf2.predict(X_test)\n",
    "accuracy = round(accuracy_score(y_test,y_pred), 3)\n",
    "precision = round(precision_score(y_test,y_pred), 3)\n",
    "recall = round(recall_score(y_test,y_pred), 3)\n",
    "print('MAX DEPTH: {} / # OF EST: {} -- A: {} / P: {} / R: {}'.format(rf3.max_depth,\n",
    "                                                                     rf3.n_estimators,\n",
    "                                                                     accuracy,\n",
    "                                                                     precision,\n",
    "                                                                     recall))"
   ]
  },
  {
   "cell_type": "markdown",
   "metadata": {},
   "source": [
    "Now we can explore and see what are the most important words to predict the correct results."
   ]
  },
  {
   "cell_type": "code",
   "execution_count": 20,
   "metadata": {},
   "outputs": [
    {
     "data": {
      "text/plain": [
       "RandomForestClassifier()"
      ]
     },
     "execution_count": 20,
     "metadata": {},
     "output_type": "execute_result"
    }
   ],
   "source": [
    "rf.fit(X_train,y_train.values.ravel())"
   ]
  },
  {
   "cell_type": "code",
   "execution_count": 21,
   "metadata": {},
   "outputs": [
    {
     "data": {
      "image/png": "[encoded data removed]",
      "text/plain": [
       "<Figure size 720x720 with 1 Axes>"
      ]
     },
     "metadata": {
      "needs_background": "light"
     },
     "output_type": "display_data"
    }
   ],
   "source": [
    "feat_importances = pd.Series(rf.feature_importances_, index=X_train.columns)\n",
    "feat_importances.nlargest(20).plot(kind='bar',figsize=(10,10))\n",
    "plt.title(\"Top 20 important features\")\n",
    "plt.show()"
   ]
  },
  {
   "cell_type": "code",
   "execution_count": null,
   "metadata": {},
   "outputs": [],
   "source": []
  }
 ],
 "metadata": {
  "kernelspec": {
   "display_name": "Python 3 (ipykernel)",
   "language": "python",
   "name": "python3"
  },
  "language_info": {
   "codemirror_mode": {
    "name": "ipython",
    "version": 3
   },
   "file_extension": ".py",
   "mimetype": "text/x-python",
   "name": "python",
   "nbconvert_exporter": "python",
   "pygments_lexer": "ipython3",
   "version": "3.9.7"
  }
 },
 "nbformat": 4,
 "nbformat_minor": 4
}
