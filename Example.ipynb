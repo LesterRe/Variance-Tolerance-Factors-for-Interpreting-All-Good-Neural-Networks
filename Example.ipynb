{
 "cells": [
  {
   "cell_type": "markdown",
   "id": "744831c6",
   "metadata": {},
   "source": [
    "# Showcase of linear model"
   ]
  },
  {
   "cell_type": "markdown",
   "id": "0bff28b8",
   "metadata": {},
   "source": [
    "## Default settings, including necessary packages and seed"
   ]
  },
  {
   "cell_type": "code",
   "execution_count": 8,
   "id": "3ced5020",
   "metadata": {},
   "outputs": [],
   "source": [
    "import tensorflow as tf\n",
    "from load_data import *\n",
    "from make_base_model import *\n",
    "from make_feature_model import *\n",
    "import os\n",
    "import random as rn\n",
    "SEED=3\n",
    "os.environ['PYTHONHASHSEED']=str(SEED)\n",
    "np.random.seed(SEED)\n",
    "tf.random.set_seed(SEED)\n",
    "rn.seed(SEED)\n"
   ]
  },
  {
   "cell_type": "markdown",
   "id": "7935078d",
   "metadata": {},
   "source": [
    "## Load data"
   ]
  },
  {
   "cell_type": "code",
   "execution_count": null,
   "id": "6e3afbdd",
   "metadata": {},
   "outputs": [],
   "source": [
    "# load data\n",
    "X_train, X_test, y_train, y_test, labels = load_data_boston()"
   ]
  },
  {
   "cell_type": "markdown",
   "id": "5a3bb44b",
   "metadata": {},
   "source": [
    "## Build model"
   ]
  },
  {
   "cell_type": "code",
   "execution_count": 11,
   "id": "0f96340d",
   "metadata": {},
   "outputs": [
    {
     "name": "stdout",
     "output_type": "stream",
     "text": [
      "Epoch 1/100\n",
      "41/41 [==============================] - 0s 4ms/step - loss: 13423.0215 - mae: 111.8327 - val_loss: 9772.0439 - val_mae: 94.4122\n",
      "Epoch 2/100\n",
      "41/41 [==============================] - 0s 2ms/step - loss: 8090.6221 - mae: 84.6100 - val_loss: 5786.6436 - val_mae: 69.3039\n",
      "Epoch 3/100\n",
      "41/41 [==============================] - 0s 2ms/step - loss: 5427.1753 - mae: 65.3657 - val_loss: 4008.6475 - val_mae: 54.7294\n",
      "Epoch 4/100\n",
      "41/41 [==============================] - 0s 2ms/step - loss: 4219.7466 - mae: 54.5239 - val_loss: 3189.3633 - val_mae: 47.6670\n",
      "Epoch 5/100\n",
      "41/41 [==============================] - 0s 1ms/step - loss: 3611.2832 - mae: 48.7388 - val_loss: 2733.8799 - val_mae: 43.6684\n",
      "Epoch 6/100\n",
      "41/41 [==============================] - 0s 1ms/step - loss: 3220.7468 - mae: 45.1713 - val_loss: 2424.8665 - val_mae: 40.5800\n",
      "Epoch 7/100\n",
      "41/41 [==============================] - 0s 1ms/step - loss: 2896.7822 - mae: 42.2472 - val_loss: 2166.1096 - val_mae: 38.0923\n",
      "Epoch 8/100\n",
      "41/41 [==============================] - 0s 1ms/step - loss: 2594.3647 - mae: 39.4209 - val_loss: 1926.7150 - val_mae: 35.6340\n",
      "Epoch 9/100\n",
      "41/41 [==============================] - 0s 1ms/step - loss: 2314.1016 - mae: 36.7568 - val_loss: 1716.4109 - val_mae: 33.2593\n",
      "Epoch 10/100\n",
      "41/41 [==============================] - 0s 1ms/step - loss: 2052.4922 - mae: 34.3870 - val_loss: 1509.2578 - val_mae: 30.9762\n",
      "Epoch 11/100\n",
      "41/41 [==============================] - 0s 1ms/step - loss: 1816.5916 - mae: 31.8615 - val_loss: 1329.1891 - val_mae: 28.6509\n",
      "Epoch 12/100\n",
      "41/41 [==============================] - 0s 1ms/step - loss: 1605.1323 - mae: 29.5350 - val_loss: 1175.2760 - val_mae: 26.5587\n",
      "Epoch 13/100\n",
      "41/41 [==============================] - 0s 1ms/step - loss: 1417.9484 - mae: 27.2755 - val_loss: 1036.7871 - val_mae: 24.5537\n",
      "Epoch 14/100\n",
      "41/41 [==============================] - 0s 1ms/step - loss: 1251.6871 - mae: 25.3156 - val_loss: 914.5768 - val_mae: 22.7833\n",
      "Epoch 15/100\n",
      "41/41 [==============================] - 0s 1ms/step - loss: 1103.9584 - mae: 23.4060 - val_loss: 808.5214 - val_mae: 21.1469\n",
      "Epoch 16/100\n",
      "41/41 [==============================] - 0s 1ms/step - loss: 974.4066 - mae: 21.7937 - val_loss: 717.4092 - val_mae: 19.7498\n",
      "Epoch 17/100\n",
      "41/41 [==============================] - 0s 1ms/step - loss: 860.0693 - mae: 20.4063 - val_loss: 641.0286 - val_mae: 18.4312\n",
      "Epoch 18/100\n",
      "41/41 [==============================] - 0s 1ms/step - loss: 759.5280 - mae: 19.1992 - val_loss: 570.1613 - val_mae: 17.2757\n",
      "Epoch 19/100\n",
      "41/41 [==============================] - 0s 2ms/step - loss: 675.6476 - mae: 18.4681 - val_loss: 511.4157 - val_mae: 16.2745\n",
      "Epoch 20/100\n",
      "41/41 [==============================] - 0s 1ms/step - loss: 603.5403 - mae: 17.2891 - val_loss: 462.5031 - val_mae: 15.2840\n",
      "Epoch 21/100\n",
      "41/41 [==============================] - 0s 1ms/step - loss: 540.4807 - mae: 16.1520 - val_loss: 424.2028 - val_mae: 14.5124\n",
      "Epoch 22/100\n",
      "41/41 [==============================] - 0s 1ms/step - loss: 490.0384 - mae: 15.4675 - val_loss: 391.1753 - val_mae: 14.1710\n",
      "Epoch 23/100\n",
      "41/41 [==============================] - 0s 1ms/step - loss: 445.7223 - mae: 15.1864 - val_loss: 363.1192 - val_mae: 13.6153\n",
      "Epoch 24/100\n",
      "41/41 [==============================] - 0s 1ms/step - loss: 408.0025 - mae: 14.5132 - val_loss: 341.4964 - val_mae: 13.2829\n",
      "Epoch 25/100\n",
      "41/41 [==============================] - 0s 1ms/step - loss: 377.9510 - mae: 14.0688 - val_loss: 322.6504 - val_mae: 13.0343\n",
      "Epoch 26/100\n",
      "41/41 [==============================] - 0s 2ms/step - loss: 355.1852 - mae: 13.6822 - val_loss: 307.6212 - val_mae: 12.8563\n",
      "Epoch 27/100\n",
      "41/41 [==============================] - 0s 2ms/step - loss: 329.1555 - mae: 13.5252 - val_loss: 295.4331 - val_mae: 12.7334\n",
      "Epoch 28/100\n",
      "41/41 [==============================] - 0s 1ms/step - loss: 311.7999 - mae: 13.2917 - val_loss: 284.1688 - val_mae: 12.5523\n",
      "Epoch 29/100\n",
      "41/41 [==============================] - 0s 1ms/step - loss: 296.9928 - mae: 13.1332 - val_loss: 276.4227 - val_mae: 12.4044\n",
      "Epoch 30/100\n",
      "41/41 [==============================] - 0s 1ms/step - loss: 283.3219 - mae: 12.8564 - val_loss: 268.4474 - val_mae: 12.3398\n",
      "Epoch 31/100\n",
      "41/41 [==============================] - 0s 2ms/step - loss: 271.3569 - mae: 12.7006 - val_loss: 261.7945 - val_mae: 12.2652\n",
      "Epoch 32/100\n",
      "41/41 [==============================] - 0s 2ms/step - loss: 261.3040 - mae: 12.5689 - val_loss: 255.7900 - val_mae: 12.2100\n",
      "Epoch 33/100\n",
      "41/41 [==============================] - 0s 1ms/step - loss: 252.8627 - mae: 12.4627 - val_loss: 250.6299 - val_mae: 12.1001\n",
      "Epoch 34/100\n",
      "41/41 [==============================] - 0s 1ms/step - loss: 245.5541 - mae: 12.3336 - val_loss: 245.9968 - val_mae: 12.0236\n",
      "Epoch 35/100\n",
      "41/41 [==============================] - 0s 2ms/step - loss: 239.4852 - mae: 12.2735 - val_loss: 241.1333 - val_mae: 11.9647\n",
      "Epoch 36/100\n",
      "41/41 [==============================] - 0s 2ms/step - loss: 232.6004 - mae: 12.0770 - val_loss: 237.1465 - val_mae: 11.8497\n",
      "Epoch 37/100\n",
      "41/41 [==============================] - 0s 1ms/step - loss: 225.9364 - mae: 11.9400 - val_loss: 232.5871 - val_mae: 11.8205\n",
      "Epoch 38/100\n",
      "41/41 [==============================] - 0s 1ms/step - loss: 220.8339 - mae: 11.8334 - val_loss: 228.7864 - val_mae: 11.7061\n",
      "Epoch 39/100\n",
      "41/41 [==============================] - 0s 2ms/step - loss: 216.1317 - mae: 11.6999 - val_loss: 224.6517 - val_mae: 11.5963\n",
      "Epoch 40/100\n",
      "41/41 [==============================] - 0s 1ms/step - loss: 211.6934 - mae: 11.5577 - val_loss: 220.5740 - val_mae: 11.5064\n",
      "Epoch 41/100\n",
      "41/41 [==============================] - 0s 1ms/step - loss: 207.1402 - mae: 11.4623 - val_loss: 216.6937 - val_mae: 11.4087\n",
      "Epoch 42/100\n",
      "41/41 [==============================] - 0s 1ms/step - loss: 203.1781 - mae: 11.3461 - val_loss: 212.7673 - val_mae: 11.2641\n",
      "Epoch 43/100\n",
      "41/41 [==============================] - 0s 1ms/step - loss: 198.8448 - mae: 11.2261 - val_loss: 208.7666 - val_mae: 11.1617\n",
      "Epoch 44/100\n",
      "41/41 [==============================] - 0s 1ms/step - loss: 194.6167 - mae: 11.1103 - val_loss: 205.1382 - val_mae: 11.0507\n",
      "Epoch 45/100\n",
      "41/41 [==============================] - 0s 1ms/step - loss: 191.3129 - mae: 11.0058 - val_loss: 201.5303 - val_mae: 10.9349\n",
      "Epoch 46/100\n",
      "41/41 [==============================] - 0s 1ms/step - loss: 187.3992 - mae: 10.8811 - val_loss: 197.9072 - val_mae: 10.8309\n",
      "Epoch 47/100\n",
      "41/41 [==============================] - 0s 1ms/step - loss: 183.3615 - mae: 10.7749 - val_loss: 193.8228 - val_mae: 10.6882\n",
      "Epoch 48/100\n",
      "41/41 [==============================] - 0s 1ms/step - loss: 179.6660 - mae: 10.6099 - val_loss: 189.7940 - val_mae: 10.5506\n",
      "Epoch 49/100\n",
      "41/41 [==============================] - 0s 1ms/step - loss: 176.2883 - mae: 10.5264 - val_loss: 186.8937 - val_mae: 10.4221\n",
      "Epoch 50/100\n",
      "41/41 [==============================] - 0s 1ms/step - loss: 172.4555 - mae: 10.3794 - val_loss: 182.6729 - val_mae: 10.3094\n",
      "Epoch 51/100\n",
      "41/41 [==============================] - 0s 1ms/step - loss: 168.9384 - mae: 10.2546 - val_loss: 179.1860 - val_mae: 10.1788\n",
      "Epoch 52/100\n",
      "41/41 [==============================] - 0s 1ms/step - loss: 165.6896 - mae: 10.1445 - val_loss: 175.6188 - val_mae: 10.0702\n",
      "Epoch 53/100\n",
      "41/41 [==============================] - 0s 2ms/step - loss: 162.3649 - mae: 10.0313 - val_loss: 172.3091 - val_mae: 9.9551\n",
      "Epoch 54/100\n",
      "41/41 [==============================] - 0s 1ms/step - loss: 158.9548 - mae: 9.9204 - val_loss: 169.1181 - val_mae: 9.8325\n",
      "Epoch 55/100\n",
      "41/41 [==============================] - 0s 1ms/step - loss: 156.6886 - mae: 9.7906 - val_loss: 166.3752 - val_mae: 9.8050\n",
      "Epoch 56/100\n",
      "41/41 [==============================] - 0s 1ms/step - loss: 153.3781 - mae: 9.7246 - val_loss: 162.8185 - val_mae: 9.5751\n",
      "Epoch 57/100\n",
      "41/41 [==============================] - 0s 2ms/step - loss: 150.7827 - mae: 9.6397 - val_loss: 159.5321 - val_mae: 9.4544\n",
      "Epoch 58/100\n",
      "41/41 [==============================] - 0s 3ms/step - loss: 147.2945 - mae: 9.4015 - val_loss: 156.0048 - val_mae: 9.3776\n",
      "Epoch 59/100\n",
      "41/41 [==============================] - 0s 2ms/step - loss: 144.2737 - mae: 9.3565 - val_loss: 153.0857 - val_mae: 9.2442\n",
      "Epoch 60/100\n"
     ]
    },
    {
     "name": "stdout",
     "output_type": "stream",
     "text": [
      "41/41 [==============================] - 0s 1ms/step - loss: 142.5560 - mae: 9.2632 - val_loss: 151.7661 - val_mae: 9.1234\n",
      "Epoch 61/100\n",
      "41/41 [==============================] - 0s 1ms/step - loss: 138.4225 - mae: 9.0883 - val_loss: 148.0548 - val_mae: 9.1496\n",
      "Epoch 62/100\n",
      "41/41 [==============================] - 0s 1ms/step - loss: 136.0593 - mae: 9.0130 - val_loss: 144.6682 - val_mae: 8.9292\n",
      "Epoch 63/100\n",
      "41/41 [==============================] - 0s 2ms/step - loss: 133.5792 - mae: 8.8733 - val_loss: 142.0661 - val_mae: 8.8795\n",
      "Epoch 64/100\n",
      "41/41 [==============================] - 0s 1ms/step - loss: 132.1311 - mae: 8.8363 - val_loss: 139.6616 - val_mae: 8.7020\n",
      "Epoch 65/100\n",
      "41/41 [==============================] - 0s 1ms/step - loss: 129.1414 - mae: 8.6848 - val_loss: 136.7005 - val_mae: 8.6637\n",
      "Epoch 66/100\n",
      "41/41 [==============================] - 0s 1ms/step - loss: 126.3792 - mae: 8.6048 - val_loss: 134.0770 - val_mae: 8.5358\n",
      "Epoch 67/100\n",
      "41/41 [==============================] - 0s 1ms/step - loss: 123.6465 - mae: 8.4925 - val_loss: 131.8428 - val_mae: 8.4075\n",
      "Epoch 68/100\n",
      "41/41 [==============================] - 0s 1ms/step - loss: 122.1803 - mae: 8.3882 - val_loss: 129.1618 - val_mae: 8.3064\n",
      "Epoch 69/100\n",
      "41/41 [==============================] - 0s 1ms/step - loss: 119.5571 - mae: 8.3182 - val_loss: 126.7402 - val_mae: 8.2294\n",
      "Epoch 70/100\n",
      "41/41 [==============================] - 0s 1ms/step - loss: 117.8465 - mae: 8.1886 - val_loss: 124.5712 - val_mae: 8.1585\n",
      "Epoch 71/100\n",
      "41/41 [==============================] - 0s 1ms/step - loss: 115.7353 - mae: 8.1681 - val_loss: 122.5590 - val_mae: 8.0896\n",
      "Epoch 72/100\n",
      "41/41 [==============================] - 0s 1ms/step - loss: 113.3315 - mae: 8.0254 - val_loss: 120.7004 - val_mae: 7.9464\n",
      "Epoch 73/100\n",
      "41/41 [==============================] - 0s 1ms/step - loss: 111.6999 - mae: 7.9251 - val_loss: 118.7115 - val_mae: 7.9750\n",
      "Epoch 74/100\n",
      "41/41 [==============================] - 0s 2ms/step - loss: 109.9251 - mae: 8.0042 - val_loss: 117.6346 - val_mae: 7.7283\n",
      "Epoch 75/100\n",
      "41/41 [==============================] - 0s 1ms/step - loss: 109.7155 - mae: 7.8593 - val_loss: 114.1177 - val_mae: 7.7023\n",
      "Epoch 76/100\n",
      "41/41 [==============================] - 0s 1ms/step - loss: 105.9816 - mae: 7.6671 - val_loss: 112.4606 - val_mae: 7.6581\n",
      "Epoch 77/100\n",
      "41/41 [==============================] - 0s 1ms/step - loss: 104.1661 - mae: 7.6309 - val_loss: 110.1347 - val_mae: 7.5099\n",
      "Epoch 78/100\n",
      "41/41 [==============================] - 0s 1ms/step - loss: 102.3040 - mae: 7.5486 - val_loss: 108.4792 - val_mae: 7.4897\n",
      "Epoch 79/100\n",
      "41/41 [==============================] - 0s 1ms/step - loss: 101.1539 - mae: 7.4669 - val_loss: 106.4130 - val_mae: 7.3641\n",
      "Epoch 80/100\n",
      "41/41 [==============================] - 0s 1ms/step - loss: 100.3078 - mae: 7.4824 - val_loss: 105.2126 - val_mae: 7.3574\n",
      "Epoch 81/100\n",
      "41/41 [==============================] - 0s 1ms/step - loss: 98.8135 - mae: 7.3634 - val_loss: 103.5993 - val_mae: 7.1799\n",
      "Epoch 82/100\n",
      "41/41 [==============================] - 0s 1ms/step - loss: 96.2900 - mae: 7.2667 - val_loss: 101.5974 - val_mae: 7.1947\n",
      "Epoch 83/100\n",
      "41/41 [==============================] - 0s 1ms/step - loss: 96.1490 - mae: 7.2705 - val_loss: 100.6518 - val_mae: 7.2036\n",
      "Epoch 84/100\n",
      "41/41 [==============================] - 0s 1ms/step - loss: 93.8329 - mae: 7.1207 - val_loss: 98.9001 - val_mae: 7.1141\n",
      "Epoch 85/100\n",
      "41/41 [==============================] - 0s 1ms/step - loss: 92.5295 - mae: 7.1088 - val_loss: 96.9519 - val_mae: 6.9879\n",
      "Epoch 86/100\n",
      "41/41 [==============================] - 0s 1ms/step - loss: 91.0248 - mae: 7.0444 - val_loss: 95.9708 - val_mae: 6.9849\n",
      "Epoch 87/100\n",
      "41/41 [==============================] - 0s 1ms/step - loss: 90.0208 - mae: 6.9636 - val_loss: 94.2416 - val_mae: 6.8686\n",
      "Epoch 88/100\n",
      "41/41 [==============================] - 0s 1ms/step - loss: 88.6546 - mae: 6.9146 - val_loss: 92.6575 - val_mae: 6.7728\n",
      "Epoch 89/100\n",
      "41/41 [==============================] - 0s 1ms/step - loss: 87.9107 - mae: 6.9461 - val_loss: 91.4844 - val_mae: 6.7004\n",
      "Epoch 90/100\n",
      "41/41 [==============================] - 0s 1ms/step - loss: 87.8090 - mae: 6.7895 - val_loss: 91.5241 - val_mae: 6.8864\n",
      "Epoch 91/100\n",
      "41/41 [==============================] - 0s 1ms/step - loss: 86.2380 - mae: 6.8178 - val_loss: 89.1010 - val_mae: 6.6954\n",
      "Epoch 92/100\n",
      "41/41 [==============================] - 0s 1ms/step - loss: 84.8354 - mae: 6.7359 - val_loss: 88.5537 - val_mae: 6.7316\n",
      "Epoch 93/100\n",
      "41/41 [==============================] - 0s 1ms/step - loss: 83.0083 - mae: 6.6453 - val_loss: 86.4016 - val_mae: 6.5431\n",
      "Epoch 94/100\n",
      "41/41 [==============================] - 0s 1ms/step - loss: 82.4030 - mae: 6.5961 - val_loss: 84.9507 - val_mae: 6.4988\n",
      "Epoch 95/100\n",
      "41/41 [==============================] - 0s 1ms/step - loss: 81.1181 - mae: 6.5432 - val_loss: 85.8490 - val_mae: 6.7363\n",
      "Epoch 96/100\n",
      "41/41 [==============================] - 0s 1ms/step - loss: 80.4173 - mae: 6.6172 - val_loss: 82.8620 - val_mae: 6.4348\n",
      "Epoch 97/100\n",
      "41/41 [==============================] - 0s 1ms/step - loss: 79.5872 - mae: 6.4729 - val_loss: 84.6696 - val_mae: 6.7403\n",
      "Epoch 98/100\n",
      "41/41 [==============================] - 0s 1ms/step - loss: 78.5234 - mae: 6.5031 - val_loss: 80.8354 - val_mae: 6.3874\n",
      "Epoch 99/100\n",
      "41/41 [==============================] - 0s 1ms/step - loss: 78.7307 - mae: 6.4877 - val_loss: 79.6498 - val_mae: 6.3318\n",
      "Epoch 100/100\n",
      "41/41 [==============================] - 0s 1ms/step - loss: 77.3506 - mae: 6.3694 - val_loss: 81.4578 - val_mae: 6.6462\n"
     ]
    }
   ],
   "source": [
    "# build base model\n",
    "base_model = make_base_model_boston()\n",
    "base_model.compile(loss='mse', optimizer='adam', metrics=['mae'])\n",
    "\n",
    "# base_model training\n",
    "history = base_model.fit(X_train, y_train, epochs=100, batch_size=10, verbose=1, validation_data=(X_test, y_test))\n"
   ]
  },
  {
   "cell_type": "markdown",
   "id": "2b2c5ec1",
   "metadata": {},
   "source": [
    "## Define callback that stops training once the performance acieves the same"
   ]
  },
  {
   "cell_type": "code",
   "execution_count": null,
   "id": "a5eed6ae",
   "metadata": {},
   "outputs": [],
   "source": [
    "stop_call_back = utilities.EarlyStoppingByLossVal(monitor='val_loss', value=80, verbose=0)\n"
   ]
  },
  {
   "cell_type": "code",
   "execution_count": null,
   "id": "28e3996a",
   "metadata": {},
   "outputs": [],
   "source": [
    "# uncomment to use the pretrained model\n",
    "# base_model = tf.keras.models.load_model('./Gold/base_model_{}_no_scaling.h5'.format(name_prefix))"
   ]
  },
  {
   "cell_type": "markdown",
   "id": "571683bb",
   "metadata": {},
   "source": [
    "## Set base model untrainable"
   ]
  },
  {
   "cell_type": "code",
   "execution_count": null,
   "id": "3777eb10",
   "metadata": {},
   "outputs": [],
   "source": [
    "base_model.trainable = False"
   ]
  },
  {
   "cell_type": "markdown",
   "id": "e07d01bd",
   "metadata": {},
   "source": [
    "## Define and retrain the feature model"
   ]
  },
  {
   "cell_type": "code",
   "execution_count": 15,
   "id": "4f13db52",
   "metadata": {},
   "outputs": [
    {
     "name": "stdout",
     "output_type": "stream",
     "text": [
      "Model: \"model_2\"\n",
      "_________________________________________________________________\n",
      " Layer (type)                Output Shape              Param #   \n",
      "=================================================================\n",
      " input_3 (InputLayer)        [(None, 13)]              0         \n",
      "                                                                 \n",
      " feature_extractor (Sequenti  (None, 13)               13        \n",
      " al)                                                             \n",
      "                                                                 \n",
      " sequential_4 (Sequential)   (None, 1)                 14        \n",
      "                                                                 \n",
      "=================================================================\n",
      "Total params: 27\n",
      "Trainable params: 13\n",
      "Non-trainable params: 14\n",
      "_________________________________________________________________\n",
      "Epoch 1/100\n",
      "41/41 [==============================] - 0s 10ms/step - loss: 493.7356 - mae: 20.2621 - val_loss: 466.4464 - val_mae: 19.5990\n",
      "Epoch 2/100\n",
      "41/41 [==============================] - 0s 9ms/step - loss: 417.3493 - mae: 18.2796 - val_loss: 393.8860 - val_mae: 17.6527\n",
      "Epoch 3/100\n",
      "41/41 [==============================] - 0s 9ms/step - loss: 353.0129 - mae: 16.4420 - val_loss: 333.5720 - val_mae: 15.8721\n",
      "Epoch 4/100\n",
      "41/41 [==============================] - 0s 9ms/step - loss: 299.1478 - mae: 14.7859 - val_loss: 283.1433 - val_mae: 14.2590\n",
      "Epoch 5/100\n",
      "41/41 [==============================] - 0s 9ms/step - loss: 253.9365 - mae: 13.3228 - val_loss: 241.5949 - val_mae: 12.8250\n",
      "Epoch 6/100\n",
      "41/41 [==============================] - 0s 9ms/step - loss: 216.6059 - mae: 11.9681 - val_loss: 206.7349 - val_mae: 11.5572\n",
      "Epoch 7/100\n",
      "41/41 [==============================] - 0s 9ms/step - loss: 186.2603 - mae: 10.8251 - val_loss: 179.1090 - val_mae: 10.4526\n",
      "Epoch 8/100\n",
      "41/41 [==============================] - 0s 9ms/step - loss: 161.8140 - mae: 9.8277 - val_loss: 156.6889 - val_mae: 9.4900\n",
      "Epoch 9/100\n",
      "41/41 [==============================] - 0s 9ms/step - loss: 142.2839 - mae: 9.0128 - val_loss: 138.3728 - val_mae: 8.6052\n",
      "Epoch 10/100\n",
      "41/41 [==============================] - 0s 9ms/step - loss: 126.6623 - mae: 8.3233 - val_loss: 124.9804 - val_mae: 7.9468\n",
      "Epoch 11/100\n",
      "41/41 [==============================] - 0s 8ms/step - loss: 114.7767 - mae: 7.7530 - val_loss: 113.8365 - val_mae: 7.3931\n",
      "Epoch 12/100\n",
      "41/41 [==============================] - 0s 8ms/step - loss: 105.3372 - mae: 7.3091 - val_loss: 105.3973 - val_mae: 6.9895\n",
      "Epoch 13/100\n",
      "41/41 [==============================] - 0s 8ms/step - loss: 98.3123 - mae: 6.9715 - val_loss: 98.9542 - val_mae: 6.6623\n",
      "Epoch 14/100\n",
      "41/41 [==============================] - 0s 8ms/step - loss: 92.8708 - mae: 6.7145 - val_loss: 93.6437 - val_mae: 6.4396\n",
      "Epoch 15/100\n",
      "41/41 [==============================] - 0s 8ms/step - loss: 88.6945 - mae: 6.5416 - val_loss: 90.2178 - val_mae: 6.3068\n",
      "Epoch 16/100\n",
      "41/41 [==============================] - 0s 8ms/step - loss: 85.6935 - mae: 6.4219 - val_loss: 87.4839 - val_mae: 6.2355\n",
      "Epoch 17/100\n",
      "41/41 [==============================] - 0s 9ms/step - loss: 83.3152 - mae: 6.3425 - val_loss: 85.1990 - val_mae: 6.1790\n",
      "Epoch 18/100\n",
      "41/41 [==============================] - 0s 8ms/step - loss: 81.4801 - mae: 6.2947 - val_loss: 83.5362 - val_mae: 6.1632\n",
      "Epoch 19/100\n",
      "41/41 [==============================] - 0s 8ms/step - loss: 79.9742 - mae: 6.2477 - val_loss: 82.0970 - val_mae: 6.1521\n",
      "Epoch 20/100\n",
      "41/41 [==============================] - 0s 8ms/step - loss: 78.8192 - mae: 6.2162 - val_loss: 81.0443 - val_mae: 6.1485\n",
      "Epoch 21/100\n",
      "41/41 [==============================] - 0s 9ms/step - loss: 77.9259 - mae: 6.2049 - val_loss: 80.0739 - val_mae: 6.1471\n",
      "Epoch 22/100\n",
      "41/41 [==============================] - 0s 8ms/step - loss: 77.1031 - mae: 6.1853 - val_loss: 79.2796 - val_mae: 6.1437\n"
     ]
    }
   ],
   "source": [
    "feature_model = make_feature_model(base_model, shape=(len(labels)))\n",
    "\n",
    "opt = utilities.tf.keras.optimizers.Adam()\n",
    "\n",
    "feature_model.compile(loss='mse', optimizer=opt, metrics=['mae'], run_eagerly=True)\n",
    "\n",
    "history = feature_model.fit(X_train, y_train, epochs=100, batch_size=10, verbose=1, validation_data=(X_test, y_test), shuffle=True, callbacks=[stop_call_back])\n"
   ]
  },
  {
   "cell_type": "markdown",
   "id": "30e58b0a",
   "metadata": {},
   "source": [
    "## Print outcomes"
   ]
  },
  {
   "cell_type": "code",
   "execution_count": 17,
   "id": "5c061a80",
   "metadata": {},
   "outputs": [
    {
     "data": {
      "text/plain": [
       "array([[ 0.07926199,  0.4884857 ,  0.24638276,  0.33488476,  0.39778215,\n",
       "         0.45051807, -0.41307184, -0.41451162,  0.26689667,  0.38886103,\n",
       "        -0.44129446,  0.46097392, -0.21057011]], dtype=float32)"
      ]
     },
     "execution_count": 17,
     "metadata": {},
     "output_type": "execute_result"
    }
   ],
   "source": [
    "weights_importance = np.array(stop_call_back.weights)\n",
    "weights_importance = np.reshape(arr, (len(arr), np.shape(arr)[-1]))\n",
    "\n",
    "weights_importance"
   ]
  }
 ],
 "metadata": {
  "kernelspec": {
   "display_name": "Python 3 (ipykernel)",
   "language": "python",
   "name": "python3"
  },
  "language_info": {
   "codemirror_mode": {
    "name": "ipython",
    "version": 3
   },
   "file_extension": ".py",
   "mimetype": "text/x-python",
   "name": "python",
   "nbconvert_exporter": "python",
   "pygments_lexer": "ipython3",
   "version": "3.9.7"
  }
 },
 "nbformat": 4,
 "nbformat_minor": 5
}
