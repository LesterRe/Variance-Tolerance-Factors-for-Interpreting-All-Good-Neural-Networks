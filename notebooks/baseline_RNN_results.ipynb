{
 "cells": [
  {
   "cell_type": "code",
   "execution_count": 1,
   "id": "834b9aa2",
   "metadata": {},
   "outputs": [],
   "source": [
    "import numpy\n",
    "from keras.datasets import imdb\n",
    "from keras.models import Sequential\n",
    "from keras.layers import Dense\n",
    "from keras.layers import LSTM\n",
    "from keras.layers.embeddings import Embedding\n",
    "from keras.preprocessing import sequence\n",
    "import numpy as np\n",
    "from sklearn.metrics import accuracy_score\n",
    "from sklearn.ensemble import RandomForestClassifier\n",
    "import copy\n",
    "import utilities\n",
    "# import \n",
    "import scipy.stats as ss\n",
    "from matplotlib import pyplot as plt\n",
    "\n",
    "# fix random seed for reproducibility\n",
    "numpy.random.seed(7)\n",
    "# load the dataset but only keep the top n words, zero the rest\n",
    "import keras\n",
    "NUM_WORDS=2000 # only use top 1000 words\n",
    "INDEX_FROM=3   # word index offset\n"
   ]
  },
  {
   "cell_type": "code",
   "execution_count": 155,
   "id": "1b1ea4f8",
   "metadata": {},
   "outputs": [],
   "source": [
    "(X_train, y_train), (X_test, y_test) = keras.datasets.imdb.load_data(num_words=NUM_WORDS, index_from=INDEX_FROM)\n"
   ]
  },
  {
   "cell_type": "code",
   "execution_count": 2,
   "id": "eee73b8d",
   "metadata": {},
   "outputs": [
    {
     "name": "stderr",
     "output_type": "stream",
     "text": [
      "2022-05-17 22:54:53.363377: I tensorflow/core/platform/cpu_feature_guard.cc:151] This TensorFlow binary is optimized with oneAPI Deep Neural Network Library (oneDNN) to use the following CPU instructions in performance-critical operations:  AVX2 FMA\n",
      "To enable them in other operations, rebuild TensorFlow with the appropriate compiler flags.\n"
     ]
    }
   ],
   "source": [
    "base_model = keras.models.load_model('./RNN_base_model.h5')\n"
   ]
  },
  {
   "cell_type": "code",
   "execution_count": 4,
   "id": "1311a0d5",
   "metadata": {},
   "outputs": [],
   "source": [
    "# truncate and pad input sequences\n",
    "max_review_length = 200\n",
    "X_train = sequence.pad_sequences(X_train, maxlen=max_review_length)\n",
    "X_test = sequence.pad_sequences(X_test, maxlen=max_review_length)"
   ]
  },
  {
   "cell_type": "code",
   "execution_count": 5,
   "id": "094623ff",
   "metadata": {},
   "outputs": [
    {
     "name": "stdout",
     "output_type": "stream",
     "text": [
      "782/782 [==============================] - 19s 23ms/step - loss: 1.1075 - accuracy: 0.8541\n",
      "[1.107534408569336, 0.8540800213813782]\n"
     ]
    }
   ],
   "source": [
    "scores = base_model.evaluate(X_test, y_test, verbose=1)\n",
    "print(scores)"
   ]
  },
  {
   "cell_type": "code",
   "execution_count": 6,
   "id": "28f77b17",
   "metadata": {
    "scrolled": true
   },
   "outputs": [
    {
     "name": "stdout",
     "output_type": "stream",
     "text": [
      "<PAD> <PAD> <PAD> <PAD> <PAD> <PAD> <PAD> <PAD> <PAD> <PAD> <PAD> <PAD> <PAD> <PAD> <PAD> <PAD> <PAD> <PAD> <PAD> <PAD> <PAD> <PAD> <PAD> <PAD> <PAD> <PAD> <PAD> <PAD> <PAD> <PAD> <PAD> <PAD> <PAD> <PAD> <PAD> <PAD> <PAD> <PAD> <PAD> <PAD> <PAD> <PAD> <PAD> <PAD> <PAD> <PAD> <PAD> <PAD> <PAD> <PAD> <PAD> <PAD> <PAD> <PAD> <PAD> <PAD> <PAD> <PAD> <PAD> <START> this has to be one of the worst films of the <UNK> when my friends i were watching this film being the <UNK> audience it was <UNK> at we just sat watched the first half an hour with our <UNK> touching the floor at how bad it really was the rest of the time everyone else in the theatre just started talking to each other leaving or generally <UNK> into their <UNK> that they actually paid money they had <UNK> working to watch this <UNK> excuse for a film it must have looked like a great idea on <UNK> but on film it looks like no one in the film has a <UNK> what is going on crap acting crap costumes i can't get across how <UNK> this is to watch save yourself an hour a bit of your life\n"
     ]
    }
   ],
   "source": [
    "word_to_id = keras.datasets.imdb.get_word_index()\n",
    "word_to_id = {k:(v+INDEX_FROM) for k,v in word_to_id.items()}\n",
    "word_to_id[\"<PAD>\"] = 0\n",
    "word_to_id[\"<START>\"] = 1\n",
    "word_to_id[\"<UNK>\"] = 2\n",
    "word_to_id[\"<UNUSED>\"] = 3\n",
    "\n",
    "id_to_word = {value:key for key,value in word_to_id.items()}\n",
    "print(' '.join(id_to_word[id] for id in X_train[2] ))\n",
    "\n"
   ]
  },
  {
   "cell_type": "code",
   "execution_count": 7,
   "id": "de6264ed",
   "metadata": {},
   "outputs": [],
   "source": [
    "X_train_one_hot = []\n",
    "for ins in X_train:\n",
    "    one_hot = np.zeros(2000)\n",
    "    one_hot[ins] = 1\n",
    "    X_train_one_hot.append(one_hot)"
   ]
  },
  {
   "cell_type": "code",
   "execution_count": 8,
   "id": "9eeacb12",
   "metadata": {},
   "outputs": [],
   "source": [
    "X_test_one_hot = []\n",
    "for ins in X_test:\n",
    "    one_hot = np.zeros(2000)\n",
    "    one_hot[ins] = 1\n",
    "    X_test_one_hot.append(one_hot)"
   ]
  },
  {
   "cell_type": "code",
   "execution_count": 9,
   "id": "c698fddc",
   "metadata": {},
   "outputs": [
    {
     "data": {
      "text/plain": [
       "array([   0,    0,    0,    0,    0,    0,    0,    0,    0,    0,    0,\n",
       "          0,    0,    0,    0,    0,    0,    0,    0,    0,    0,    0,\n",
       "          0,    0,    0,    0,    0,    0,    0,    0,    0,    0,    0,\n",
       "          0,    0,    0,    0,    0,    0,    0,    0,    0,    0,    0,\n",
       "          0,    0,    0,    0,    0,    0,    0,    0,    0,    0,    0,\n",
       "          0,    0,    0,    0,    1,   14,   47,    8,   30,   31,    7,\n",
       "          4,  249,  108,    7,    4,    2,   54,   61,  369,   13,   71,\n",
       "        149,   14,   22,  112,    4,    2,  311,   12,   16,    2,   33,\n",
       "         75,   43, 1829,  296,    4,   86,  320,   35,  534,   19,  263,\n",
       "          2, 1301,    4, 1873,   33,   89,   78,   12,   66,   16,    4,\n",
       "        360,    7,    4,   58,  316,  334,   11,    4, 1716,   43,  645,\n",
       "        662,    8,  257,   85, 1200,   42, 1228,    2,   83,   68,    2,\n",
       "         15,   36,  165, 1539,  278,   36,   69,    2,  780,    8,  106,\n",
       "         14,    2, 1338,   18,    6,   22,   12,  215,   28,  610,   40,\n",
       "          6,   87,  326,   23,    2,   21,   23,   22,   12,  272,   40,\n",
       "         57,   31,   11,    4,   22,   47,    6,    2,   51,    9,  170,\n",
       "         23,  595,  116,  595, 1352,   13,  191,   79,  638,   89,    2,\n",
       "         14,    9,    8,  106,  607,  624,   35,  534,    6,  227,    7,\n",
       "        129,  113], dtype=int32)"
      ]
     },
     "execution_count": 9,
     "metadata": {},
     "output_type": "execute_result"
    }
   ],
   "source": [
    "X_train[2]"
   ]
  },
  {
   "cell_type": "code",
   "execution_count": 13,
   "id": "0ad7e293",
   "metadata": {},
   "outputs": [
    {
     "data": {
      "text/plain": [
       "(1, 1, 2000, 1)"
      ]
     },
     "execution_count": 13,
     "metadata": {},
     "output_type": "execute_result"
    }
   ],
   "source": [
    "weights = np.load('RNN_weights_output.npy')\n",
    "np.shape(weights)"
   ]
  },
  {
   "cell_type": "code",
   "execution_count": 14,
   "id": "f6a3e19c",
   "metadata": {},
   "outputs": [],
   "source": [
    "weights_importance = weights[0, 0, :, 0]"
   ]
  },
  {
   "cell_type": "code",
   "execution_count": 51,
   "id": "25176ccc",
   "metadata": {},
   "outputs": [
    {
     "name": "stdout",
     "output_type": "stream",
     "text": [
      "782/782 [==============================] - 15s 19ms/step - loss: 0.2533 - accuracy: 0.8979\n"
     ]
    },
    {
     "data": {
      "text/plain": [
       "[0.2532716691493988, 0.8978800177574158]"
      ]
     },
     "execution_count": 51,
     "metadata": {},
     "output_type": "execute_result"
    }
   ],
   "source": [
    "model.evaluate(X_train, y_train)"
   ]
  },
  {
   "cell_type": "code",
   "execution_count": 23,
   "id": "18848180",
   "metadata": {},
   "outputs": [
    {
     "data": {
      "text/plain": [
       "<tf.Variable 'embedding/embeddings:0' shape=(2000, 32) dtype=float32, numpy=\n",
       "array([[-0.1198127 ,  0.02165966, -0.1500637 , ..., -0.13106845,\n",
       "        -0.05553406,  0.04520743],\n",
       "       [-0.18878992, -0.08134112, -0.03905275, ..., -0.0954524 ,\n",
       "        -0.16307238, -0.01525595],\n",
       "       [-0.01942877,  0.02867077,  0.00828877, ..., -0.02586515,\n",
       "         0.03835607, -0.02403784],\n",
       "       ...,\n",
       "       [-0.41989487,  0.45781896, -0.3420995 , ..., -0.24855302,\n",
       "        -0.3724463 ,  0.43562138],\n",
       "       [ 0.50487024, -0.19321612, -0.17671143, ...,  0.10875862,\n",
       "        -0.01810301,  0.00321491],\n",
       "       [-0.17530409, -0.09983381, -0.14499888, ..., -0.16133213,\n",
       "        -0.03263417, -0.04662052]], dtype=float32)>"
      ]
     },
     "execution_count": 23,
     "metadata": {},
     "output_type": "execute_result"
    }
   ],
   "source": [
    "rnn_weights = base_model.layers[0].weights[0]\n",
    "rnn_weights"
   ]
  },
  {
   "cell_type": "code",
   "execution_count": 24,
   "id": "8deff7b7",
   "metadata": {},
   "outputs": [],
   "source": [
    "rnn_weights = rnn_weights.numpy()"
   ]
  },
  {
   "cell_type": "code",
   "execution_count": 5,
   "id": "4bd57ced",
   "metadata": {},
   "outputs": [],
   "source": [
    "X_train_encoded = numpy.zeros((25000, 200, 2000))\n",
    "\n",
    "for i in range(len(X_train)):\n",
    "    for j in range(len(X_train[0])):\n",
    "        X_train_encoded[i][j][X_train[i][j]] = 1\n",
    "        \n"
   ]
  },
  {
   "cell_type": "code",
   "execution_count": 62,
   "id": "e5a7cb75",
   "metadata": {},
   "outputs": [],
   "source": [
    "X_test_encoded = numpy.zeros((25000, 200, 2000))\n",
    "\n",
    "for i in range(len(X_test)):\n",
    "    for j in range(len(X_test[0])):\n",
    "        X_test_encoded[i][j][X_test[i][j]] = 1"
   ]
  },
  {
   "cell_type": "code",
   "execution_count": 9,
   "id": "6cc7b5ba",
   "metadata": {},
   "outputs": [
    {
     "data": {
      "text/plain": [
       "(25000, 200)"
      ]
     },
     "execution_count": 9,
     "metadata": {},
     "output_type": "execute_result"
    }
   ],
   "source": [
    "numpy.shape(X_test)"
   ]
  },
  {
   "cell_type": "code",
   "execution_count": 19,
   "id": "38bd2898",
   "metadata": {},
   "outputs": [],
   "source": [
    "import tensorflow as tf\n",
    "class Feature_Linear(tf.keras.layers.Layer):\n",
    "\n",
    "    def __init__(self, **kwargs):\n",
    "        super(Feature_Linear, self).__init__(**kwargs)\n",
    "        \n",
    "\n",
    "    def build(self, input_shape):\n",
    "        if len(input_shape)==2:\n",
    "            self.w = self.add_weight(\n",
    "                shape=(1, input_shape[-1]),\n",
    "                # initializer=tf.keras.initializers.RandomUniform(minval=3, seed=42),\n",
    "                initializer=tf.keras.initializers.RandomUniform(),\n",
    "                # initializer=tf.keras.initializers.Zeros(),\n",
    "                trainable=True,\n",
    "                # constraint=lambda x: tf.clip_by_value(x, -1, 1)\n",
    "            )\n",
    "        else:\n",
    "            self.w = self.add_weight(\n",
    "                shape=(2000, 1),\n",
    "                initializer=tf.keras.initializers.Zeros(),\n",
    "                trainable=True,\n",
    "                # constraint=lambda x: tf.clip_by_value(x, 0, 1)\n",
    "            )\n",
    "\n",
    "    def get_config(self):\n",
    "        config = super().get_config()\n",
    "        return config\n",
    "\n",
    "    def call(self, inputs, **kwargs):\n",
    "        weights = tf.multiply(rnn_weights, self.w)\n",
    "        return tf.matmul(inputs, weights)\n"
   ]
  },
  {
   "cell_type": "code",
   "execution_count": 58,
   "id": "33e6acdf",
   "metadata": {},
   "outputs": [],
   "source": [
    "feature_model.layers[1].set_weights(model.layers[1].get_weights())"
   ]
  },
  {
   "cell_type": "code",
   "execution_count": 59,
   "id": "939f2ab1",
   "metadata": {},
   "outputs": [],
   "source": [
    "feature_model.layers[2].set_weights(model.layers[2].get_weights())"
   ]
  },
  {
   "cell_type": "code",
   "execution_count": null,
   "id": "1a2d7f00",
   "metadata": {},
   "outputs": [],
   "source": [
    "feature_model.compile(loss='binary_crossentropy', optimizer='adam', metrics=['accuracy'])\n",
    "feature_model.fit(X_train_encoded[:5000], y_train[:5000], epochs=3, batch_size=64, verbose=1)\n"
   ]
  },
  {
   "cell_type": "code",
   "execution_count": 25,
   "id": "9e5c6acb",
   "metadata": {},
   "outputs": [],
   "source": [
    "import tensorflow as tf\n",
    "\n",
    "feature_model = tf.keras.models.load_model(\"RNN_feature_model.h5\", custom_objects={'Feature_Linear': Feature_Linear})\n"
   ]
  },
  {
   "cell_type": "code",
   "execution_count": 26,
   "id": "a27029a0",
   "metadata": {},
   "outputs": [
    {
     "name": "stdout",
     "output_type": "stream",
     "text": [
      "Model: \"sequential_1\"\n",
      "_________________________________________________________________\n",
      "Layer (type)                 Output Shape              Param #   \n",
      "=================================================================\n",
      "feature__linear (Feature_Lin (None, 200, 32)           2000      \n",
      "_________________________________________________________________\n",
      "lstm_1 (LSTM)                (None, 100)               53200     \n",
      "_________________________________________________________________\n",
      "dense_1 (Dense)              (None, 1)                 101       \n",
      "=================================================================\n",
      "Total params: 55,301\n",
      "Trainable params: 2,000\n",
      "Non-trainable params: 53,301\n",
      "_________________________________________________________________\n"
     ]
    }
   ],
   "source": [
    "feature_model.summary()"
   ]
  },
  {
   "cell_type": "code",
   "execution_count": 27,
   "id": "4328776d",
   "metadata": {},
   "outputs": [
    {
     "data": {
      "text/plain": [
       "[<tf.Variable 'feature__linear/Variable:0' shape=(2000, 1) dtype=float32, numpy=\n",
       " array([[-0.14786531],\n",
       "        [ 0.3428153 ],\n",
       "        [-0.42517176],\n",
       "        ...,\n",
       "        [-0.04327567],\n",
       "        [ 0.04119211],\n",
       "        [ 0.09218749]], dtype=float32)>]"
      ]
     },
     "execution_count": 27,
     "metadata": {},
     "output_type": "execute_result"
    }
   ],
   "source": [
    "feature_model.layers[0].weights"
   ]
  },
  {
   "cell_type": "code",
   "execution_count": null,
   "id": "90665aea",
   "metadata": {},
   "outputs": [],
   "source": [
    "# Final evaluation of the model\n",
    "scores = feature_model.evaluate(X_test_encoded, y_test, verbose=0)\n",
    "print(\"Accuracy: %.2f%%\" % (scores[1]*100))"
   ]
  },
  {
   "cell_type": "code",
   "execution_count": 75,
   "id": "43590c11",
   "metadata": {},
   "outputs": [],
   "source": [
    "import keras\n",
    "# Retrieve the training sequences.\n",
    "(x_train, _), _ = keras.datasets.imdb.load_data(num_words=5000, skip_top=50)\n",
    "# Retrieve the word index file mapping words to indices\n",
    "word_index = keras.datasets.imdb.get_word_index()\n",
    "# Reverse the word index to obtain a dict mapping indices to words\n",
    "inverted_word_index = dict((i, word) for (word, i) in word_index.items())\n",
    "# Decode the first sequence in the dataset\n",
    "decoded_sequence = \" \".join(inverted_word_index[i] for i in x_train[0])"
   ]
  },
  {
   "cell_type": "code",
   "execution_count": 76,
   "id": "c72557d4",
   "metadata": {},
   "outputs": [
    {
     "data": {
      "text/plain": [
       "\"the and a of to is br in it i this that was as for with movie but film on not you are his have he be one all at by an they who so from like her or just about it's out has if some there what good more when very up no time she even my would which only story really see their had can were me well than we much been bad get will do also into people other first great because how him most don't made its then way make them too could any movies after think characters watch two films character seen many being life plot never acting little best love over where did show know off ever does better your end still man here these say scene while why scenes go such something through should back i'm real those watching now though doesn't years old thing actors work 10 before another didn't new funny nothing actually makes director look find going few same part again every lot cast us quite down want world things pretty young seems around got horror however can't fact take big enough long thought that's both between series give may original own action i've right without always times comedy point gets must come role isn't saw almost interesting least family done there's whole bit music script far making guy anything minutes feel last since might performance he's 2 probably kind am away yet rather tv worst girl day sure fun hard woman played each found anyone having although especially our believe course comes looking screen trying set goes looks place book different put ending money maybe once sense reason true actor everything wasn't shows dvd three worth year job main someone together watched play american plays 1 said effects later takes instead seem beautiful john himself version audience high house night during everyone left special seeing half excellent wife star shot war idea nice black less mind simply read second else you're father fan poor help completely death 3 used home either short line given men top dead budget try performances wrong classic boring enjoy need rest use kids hollywood low production until along full friends camera truly women awful video next tell remember couple stupid start stars perhaps sex mean came recommend let moments wonderful episode understand small face terrible playing school getting written doing often keep early name perfect style human definitely gives others itself lines live become dialogue person lost finally piece head case felt yes liked supposed title couldn't absolutely white against boy picture sort worse certainly went entire waste cinema problem hope entertaining she's mr overall evil called loved based oh several fans mother drama beginning killer lives 5 direction care already becomes laugh example friend dark despite under seemed throughout 4 turn unfortunately wanted i'd \\x96 children final fine history amazing sound guess heart totally lead humor writing michael quality you'll close son guys wants works behind tries art side game past able b days turns child they're hand flick enjoyed act genre town favorite soon kill starts sometimes car gave run late eyes actress etc directed horrible won't viewer brilliant parts self themselves hour expect thinking stories stuff girls obviously blood decent city voice highly myself feeling fight except slow matter type anyway kid roles killed heard god age says moment took leave writer strong cannot violence police hit stop happens particularly known involved happened extremely daughter obvious told chance living coming lack alone experience wouldn't including murder attempt s please james happen wonder crap ago brother film's gore none complete interest score group cut simple save ok hell looked career number song possible seriously annoying shown exactly sad running musical serious taken yourself whose released cinematography david scary ends english hero usually hours reality opening i'll across today jokes light hilarious somewhat usual started cool ridiculous body relationship view level opinion change happy middle taking wish husband finds saying order talking ones documentary shots huge novel female mostly robert power episodes room important rating talent five major turned strange word modern call apparently disappointed single events due four songs basically attention 7 knows clearly supporting knew british television comic non fast earth country future cheap class thriller 8 silly king problems aren't easily words tells miss jack local sequence bring entertainment paul beyond upon whether predictable moving similar straight romantic sets review falls oscar mystery enjoyable needs appears talk rock george giving eye richard within ten animation message theater near above dull nearly sequel theme points ' stand mention lady bunch add feels herself release red team storyline surprised ways using named haven't lots easy fantastic begins actual working effort york die hate french minute tale clear stay 9 elements feature among follow comments re viewers avoid sister showing typical editing what's famous tried sorry dialog check fall period season form certain filmed weak soundtrack means buy material somehow realistic figure crime doubt gone peter tom kept viewing t general leads greatest space lame suspense dance imagine brought third atmosphere hear particular sequences whatever parents move lee indeed learn rent de eventually note deal average reviews wait forget japanese sexual poorly premise okay zombie surprise believable stage possibly sit who's decided expected you've subject nature became difficult free killing screenplay truth romance dr nor reading needed question leaves street 20 meets hot unless begin baby superb credits imdb otherwise write shame let's situation dramatic memorable directors earlier meet disney open dog badly joe male weird acted forced laughs sci emotional older realize fi dream society writers interested footage forward comment crazy deep sounds plus beauty whom america fantasy directing keeps ask development features air quickly mess creepy towards perfectly mark worked box cheesy unique setting hands plenty result previous brings effect e total personal incredibly rate fire monster business leading apart casting admit joke powerful appear background telling girlfriend meant christmas hardly present battle potential create bill break pay masterpiece gay political return dumb fails fighting various era portrayed co cop secret inside outside nudity reasons ideas twist western front missing boys match deserves jane expecting fairly villain talented married ben success william unlike rich attempts spoilers list manages social odd recently remake flat cute further sadly copy wrote agree doctor cold plain following mentioned sweet incredible missed pure crew office wasted ended produced gun filmmakers large caught revenge filled pace popular waiting 'the members science decides considering hold public cartoon party tension created slightly uses convincing compared la familiar neither mary spent sees 6 suddenly 30 intelligent escape scott fear water brothers d clever entirely kills choice bored language moves spirit laughing dancing we're value cover credit state island successful trouble visual violent ultimately century singing 15 concept basic italian positive german animated biggest exciting speak runs store died cat consider effective walk recent depth former amusing control common spend band appreciate zombies portrayal force c pointless rated books focus hair adventure younger solid trash adult impressive follows respect bizarre tone law super amount impossible mad company college van prison weren't conclusion chemistry win showed recommended slasher producers culture studio fit starring heavy situations project makers trip awesome accent considered disturbing changed sick failed decide somewhere won leaving barely honest cause questions shooting u longer post f anti tough aside ghost fake cult thanks meaning images fiction charming audiences computer tony brain planet south literally generally touch steve stick likes ex values pathetic magic involving surprisingly alive jim immediately grade yeah garbage 100 dad bought military natural camp aspect honestly adaptation utterly detective ability fair shoot smith explain pick genius west glad frank sitting appearance pictures week motion appeal army standard attack knowing personally catch drive sexy normal rare nowhere added sam humour walking remains purpose edge comedies thinks loud beautifully thank silent taste unbelievable naked twists master touching subtle terms date equally dreams terrific channel drawn mood journey door chase fully complex london key wow managed road narrative laughable mistake bottom producer themes movie's pieces likely climax g disappointing club lovely harry blue nobody excuse outstanding soldiers issues stewart constantly award pass thus plan surely marriage painful justice costumes presented batman 80's innocent soul wild noir cinematic spoiler vampire finish slowly ride gang contains christopher presence places besides government details train central thrown manner chris historical stunning photography charm hoping impression scenery speaking disappointment loves animals you'd developed drug smart charles indian numbers mysterious expectations color hey exception throw minor ahead double track stands suppose aspects boss woods sent festival bother cry church feelings critics green brief acts opera filming mainly support emotion element held fascinating building million boyfriend names opportunity serial intended forever emotions available victim charlie dies changes compelling bed six born happening bar paris likable lived twice falling hotel zero puts tired image pain lover everybody giant offer shock spot suggest j henry include confused trailer adults difference student fresh followed bruce r kelly hasn't appeared approach victims christian fellow hurt impact putting gorgeous step sub mix event notice murders share laughed confusing content mediocre 11 lacks direct supposedly summer actresses flaws porn system page holes wall billy moral jerry worthy creative relationships rape tragedy race thin lighting helps random answer gem funniest ii americans jones merely proves wondering alien students ray paid al land seven damn agent delivers imagination park childhood flying hospital forgotten 90 standards flicks impressed finding absolute ugly beat jean don thoroughly ms attractive ground negative wise provides latter 50 stuck extreme seemingly seconds becoming winning addition reminded tragic offers inspired count fell thats lose affair turning folks detail faces cliché design martin collection afraid intense fashion pull hidden industry man's allen apartment o quick nasty arthur adds area rented alan angry personality artistic length shouldn't therefore information chinese brian shocking location ready professional lets animal anymore games teen states soldier listen mom describe lord news picked led wooden favourite dirty mouth asks food deliver onto martial bond clothes wars struggle queen redeeming stone jason scientist p wearing ed stephen compare castle intelligence creature cross sleep teenage allowed wonderfully necessary carry drugs 40 tears fox criminal rip helped member desperate moved sight cgi trust deeply roll includes willing whatsoever disaster 12 machine ship treat began mid uncle grace phone 70's williams commentary build accident captain realized plane energy station warning epic davis rarely humans loving theatre comedic witch pop suicide dying powers filmmaker independent introduced nightmare extra engaging actions character's superior unusual arts apparent suit religious heroes danny remarkable artist allow pleasure continue unnecessary x ring returns physical sky teacher pre mental watchable provide absurd tim memory grand technical normally wedding desire limited anywhere scared russian surprising douglas finished brutal skip vision process intriguing bloody media holds exist accept nicely suspect 000 jump twenty paced wanting search cops torture growing reminds jr according pacing legend soft passion andy player hated bits fred asked faith joy johnny clichés jeff academy dressed pilot eddie constant anybody ill deserved horse gold drunk joan blame originally explanation dangerous instance smile heaven heads sat community england superman deserve issue nonsense met dick lies capture gotten toward kevin somebody soap field lovers plots taylor mixed players nick explained record fail creating vhs knowledge quiet unknown fights starting friendship accurate whilst guns price adam kate hadn't sucks ball river floor european spanish wide cable radio fu cars jackson realism memories moon finest heroine aware loose eating featuring prince lacking responsible saved keeping empty understanding japan treated eat results cuts ice bland terribly pulled saving below officer villains candy broken sign ladies hopes rubbish delightful vs judge witty manage fat mine gene noticed included bright months forces screaming higher kinda wind tarzan cage hits loss today's monsters youth sing numerous partner conflict whenever humanity concerned pretentious fate singer dealing mike driving jesus private talents discovered naturally skills unfunny opposite finale bigger v ann international dated kick ups prove perspective morning mission discover portray blonde here's loses locations visit ordinary bank m humorous werewolf streets psychological regular reviewers received kong w edited gags ass luck curious gary continues magnificent 13 we've behavior captured jimmy satire survive context visually breaks existence shallow opens l mrs debut advice calls sea foot morgan shop h murdered connection core essentially current revealed director's corny remembered deals blind frankly occasionally lesson genuine scream traditional they've lucky identity dimensional african bob anthony efforts sean golden learned segment stock window cameo owner visuals versions village albert develop santa formula miles keaton one's sucked decade buddy genuinely grown references suffering boat lewis unexpected favor study washington allows program national grew 80s proved meanwhile overly ages board standing logic desert spectacular awkward ultimate comparison reaction rob sheer jennifer reach thomas unable failure brilliantly travel grant ford vampires types parody gangster devil steal brown passed sudden stereotypes sake flesh leader frame bear strength speed creates eric awards laughter dan technology delivered author bet kung crappy wood site broadway insane trek executed relief lake hitler gonna discovers emotionally painfully dreadful marie utter commercial decision code steven fault anime majority anne round pair robin caused bomb families psycho driven attitude clean built gratuitous harris native luke entertained graphic ran killers meeting test simon flashbacks underrated nevertheless model seasons asian foreign hill levels obsessed evening feet halloween vehicle barbara relate treatment rise practically range endless freedom costs religion gory cash described wit pleasant aged ancient tape reviewer center president chosen lynch product combination send fly seat sell 70s irritating exploitation excited stopped hearing rescue fill howard portrays gordon assume parker classics pity 0 produce hunter breaking dry fame anna generation sheriff capable believes handsome theatrical asking sports largely choose theaters sympathetic extras proper ruined cares contrived portraying drew individual embarrassing rules unrealistic learns warm victor daniel marry appealing safe dubbed depressing canadian freddy shakespeare recall chick uk winner hearted contrast sequels involves par woody crowd matters k correct chief costume haunting paper research vote strongly heck nominated grow clue claim facts eight protagonist matt rose evidence joseph appropriate disgusting excitement football lousy germany cost france saturday priest talks substance losing patrick destroy circumstances tedious training thoughts hunt market scare voices promise naive bringing amateurish teenager angel walter captures convinced hanging satisfying bodies united fits tend jackie trilogy roy horribly lower asleep virtually baseball robot hopefully rental alex com factor haunted teenagers hall walks spoil creatures amateur relatively steals mask welcome cinderella covered ryan danger europe insult category continuity mini unlikely drag sinatra skin contemporary louis semi viewed fare north influence depicted handled target oliver offensive hat initial nancy scale lawyer tiny cutting unfortunate holding witness shocked africa remain believed fool inner politics hide reporter presents section movement provided surreal promising designed makeup max qualities liners refreshing australian source 14 structure closer drop forgettable touches welles display angles pile fairy repeated till texas wayne claims previously faced sharp deaths ruin accents surprises universal degree focused propaganda plans serves speaks supernatural highlight service peace chose related cartoons adventures erotic 25 roger suffers blow weekend sisters granted mainstream latest weeks prime crash cant professor experiences speech print lesbian harsh deadly veteran mistakes edward routine whoever notch uninteresting realizes invisible combined sympathy accidentally kim twisted brave colors dollars security draw dogs nude rain universe struggling dozen teens convince guilty path appreciated atrocious mountain treasure walked columbo irish frightening would've committed aliens technically recognize cowboy blah birth enter gritty enemy aka spy changing magical anderson princess department gas occasional friday sword directly false massive surface narration legendary featured victoria anger offered paint performed moore explains abuse suspenseful vietnam kinds terror experienced friendly subtitles reputation crying hong sorts passing junk beach multiple forest stolen everywhere figures forth statement exact powell variety required clark reveal donald regret conversation prior darkness remotely execution theory trapped proud belief urban russell lonely placed downright wilson san fictional melodrama spends insight court effectively listening grave express demons crude figured bothered abandoned scares network unconvincing jobs hired revolution favorites jon wear minds metal worthwhile emma california dean buying blockbuster lifetime bus paying pulls account angle happiness von blown afternoon imagery rights driver alright rolling matrix mexican productions amazed idiot rings cultural status delivery thankfully grim reveals rule stayed handed alice stays scenario focuses ha significant quest rough starred examples julia jungle sir indie lights mere views murphy shadow sarah bore con teeth heavily mature device table skill interview caine tight necessarily he'd ron sunday clichéd suffer mexico china achieve spite understood format artists position initially closing campy desperately bound fabulous dress sensitive mgm destroyed hip complicated burns demon summary seek faithful forgot sun decades breath gross pitt bourne ghosts titanic cruel murderer stereotypical deeper lisa facial renting ignore pregnant league answers racist un helping ludicrous beloved flashback slapstick sleeping 17 dude cell musicals fourth wing intellectual beast sounded settings environment suck critical drinking nazi reminiscent brad calling lugosi dragon description susan prefer amazingly task mildly pacino disbelief encounter regarding larry inept greater learning arms dennis extraordinary turkey storytelling funnier julie halfway ain't expert base criticism quirky father's leslie warned cabin flight titles criminals johnson raw praise depiction screening throwing extent expression kiss jail studios freeman truck convey originality chan entertain choices spoof notorious tree raised touched children's rachel punch experiment daughters prepared comical spoken people's timing india headed purely could've basis hoffman bollywood chilling michelle underground dollar via picks lie inspiration novels wave elizabeth introduction weapons trick lazy jessica graphics breathtaking notable stomach succeeds term crafted join throws handle strangely properly toy nowadays christ sidney reference adding claire serve ratings locked honor wears sitcom ted authentic foster regard everyday causes maria provoking charge protect lesser hitchcock caring mouse mirror bat fallen carrying bitter jewish established pet amongst east shut guard midnight sleazy southern determined ned challenge daily obnoxious nonetheless cases carried carries wins alas remote embarrassed gruesome hole 2006 lane attempting westerns escapes sinister confusion nation tales ironic tradition interpretation arrives busy replaced risk enjoying sold essential needless aunt hardy burt goofy mass obsession minded balance flow clips existent successfully legs presentation screenwriter jumps exists attacked blair laid mentally bbc seeking raise topic oddly warner inspector horrific fortunately shape marvelous usa intentions buck retarded madness stupidity stops text stylish stanley che rival served workers maker sides ashamed shower packed comedian thrilling wwii interviews nine laura frequently upper mob mansion bridge remind tongue navy wanna contain albeit intensity attacks vacation thief delight manager chair sum hence 80 cheese drives 2001 expressions struggles flawed poignant angels personalities rogers riding revolves refuses adapted opened greatly credibility philip cooper glass pitch tracy 1950s jay torn dinner bette 18 cynical upset pool sin tour 2000 internet suspects advantage lessons warn lion overcome credible wishes thousands spin miller racism 90's mindless wealthy innocence tense broke bugs happily catholic guessing trial lucy hood hundreds trite physically thrillers cook fish alike dubbing fbi crisis per pride succeed controversial suffered reed bag technique wasting dislike medical sexuality countries perform patient stranger enjoyment corner arm glimpse gripping reunion franchise holmes ensemble separate hundred lincoln 60's sings noble shines whereas tied ourselves uncomfortable infamous neat atmospheric millions shorts contact card hint pack courage irony exceptional plastic storm drink ralph searching oscars scripts connected italy proof sandler snow lying flash nose curse helen sentimental mst3k grey aired holiday steps hills performers letting chasing suggests dancer tune meaningful idiotic knife quote weapon plague sons entry kurt fortune cameos consists perfection lovable hoped troubled thousand hiding develops unforgettable accepted noted portrait dear equal bettie assistant stretch woman's saves colorful annoyed larger attraction condition miscast chases brooks virgin spots basement host dialogs shoots gain horses guilt protagonists oil terrifying month cousin neighborhood vincent pg belongs stealing 16 nelson worry burning concert ad zone strip appearing worlds object split repeat hang boredom destruction thirty redemption hunting encounters imaginative expensive eerie cube seagal jake pie competent homeless concerns andrew flaw closely bo ultra factory 1st multi civil dramas gag stunts wake guts sends 60 sutherland glory knock matthau massacre letter elsewhere achieved dig checking widmark hooked complaint neck endearing segments shark sullivan rushed virus ripped charisma incoherent dragged beating dentist essence bears profound library weight tear crimes arnold dare appearances solve trade pat 24 stanwyck colour teach dorothy roberts rocks fest spell catherine dealt stan fitting hitting striking pro 2005 tribute tricks 60s battles believing briefly countless fashioned loser goal gothic noise techniques n videos health thumbs attempted scientists st painting baker strikes inspiring huh sexually birthday secretary curtis jeremy covers pointed slight specific tea hearts unintentionally denzel horrendous charismatic silver surrounded surrounding reactions branagh importance rochester admittedly carefully jerk tons hype relevant they'd walls stood eyed bible corrupt rush stunt revelation smoking magazine lloyd kicks karloff stronger grows mild hamlet represents dawn andrews intention easier enters spending scooby fired killings stated chances shall brand exercise university increasingly row disagree cardboard winter comics requires dropped associated world's chuck iii medium bush projects bride occurs korean inevitable messages brando le strike poverty forgive performing stiff attached drags luckily ian identify 1970s gift bobby acceptable resolution eva typically canada guest nuclear elvis toilet strictly vague spike contract hire 1980s thrills selling hudson homage lab boll mafia depression sophisticated fifteen disease allowing brilliance investigation continued struck insulting worker instantly useless breasts barry jesse sally afterwards chaplin britain carter executive handful importantly godfather estate hanks pleased overlooked evident burn gotta wreck nights 2002 beings ego kidnapped presumably competition press partly digital shining commit tremendous raped menacing silence talked derek worthless jamie realise ambitious meat wondered photographed sacrifice arrested buried burton threatening smooth aforementioned superbly boxing kane flawless regardless fears creation shy heat highlights savage persona frustrated drivel conspiracy individuals wonders listed appalling doc 's spiritual pushed returning jumping elvira cox corpse size characterization bullets walken generous string rex doors pleasantly bucks relative 45 outrageous kudos planning ticket achievement accomplished miserably monkey beaten neighbor distant fatal repetitive accused picking ironically consequences curiosity union admire guide splendid prevent reynolds border attracted butt clues trap notes chain opposed watches samurai shortly heston twin cole glover slightest response beer territory spooky diamond rap horrors 20th cup dire spirited melodramatic lucas flynn los piano push revealing spoiled uninspired ritter convoluted pulling ken root they'll streisand motivation directorial installment precious titled logical documentaries spring lacked suits tall subplot mate timeless hatred throat blows jealous creators blank farce spielberg slap ward carol subsequent cared mile exaggerated duke morality liberal francisco indians psychotic overdone psychiatrist astaire intrigued jet blob 50's conceived fx neil aimed remaining doo ignored elderly reasonably mitchell failing sole obscure drunken minimal temple progress fancy captivating repeatedly wes tunes shoes grandmother cia nurse marks notably emily soviet shirt explore smoke souls pushing argument distance warrior outcome reduced loosely scientific goldberg gradually bleak timothy manhattan idiots restaurant scripted misses explicit providing elaborate poster lou dignity carpenter norman rid turner show's davies draws discussion exposed mel sticks kenneth definite darker laurel intent 1950's returned superhero sloppy cried worried childish shadows craig cruise hysterical imagined reasonable editor ah birds horrid areas wicked gentle wannabe alexander thick contrary joey empire connect discovery unbearable tortured screams fever unbelievably 1930s disc 99 load heroic absence reached ho choreography triumph complain annie broad improved concerning brazil movements 2003 2004 dave folk eve purple commercials futuristic vicious gray freak threat cusack extended citizen stole anyways glenn existed cheek broadcast photographer translation arrive differences displays critic slave landscape occurred builds drawing incident warren burned involvement styles bathroom machines narrator antics he'll fisher swear australia matthew resembles lily overrated currently symbolism ought bare audio web farm contained greek affected blend q recognized duo genres population carrie ranks demands we'll abc prom altogether superficial kitchen pseudo sunshine sadness secrets bone website receive popcorn threw craft enjoys occur twelve block girl's proceedings dynamic daring swedish argue bite wolf adequate investigate harder ruth ridiculously tap dinosaurs hugh synopsis beats carrey explosion foul merit suited holy staged journalist pretend composed cagney robots giallo aging fay sadistic engaged escaped juvenile rambo ireland conversations thugs modesty selfish margaret dialogues ease cameras tame leg rural comfortable nazis clothing innovative terry thrill 2nd dancers brosnan explosions bin rage overwhelming jazz vivid coherent bullet odds mountains kidding versus lit offering mother's trio newspaper pulp ellen dawson bird buddies combat dracula lol grab orders staff nearby cats wealth unpleasant staying devoted centered errors disturbed bell atlantis snake felix damage clint lust groups banned blowing fighter removed react conventional kapoor intrigue possessed cringe eyre liking implausible philosophy producing abilities seventies bang murderous deliberately gandhi tommy meaningless subjects lips ingredients mildred perry warming causing possibility detailed walker garden prostitute nightmares cameron flop influenced spare unwatchable undoubtedly celluloid relies resemblance neo parent falk uneven unintentional eccentric mistaken distracting careers yesterday forbidden panic crack brains highest occasion signs focusing hollow explored aid cary scheme shine it'll kirk bedroom satisfied rat passes survival coffee furthermore primary succeeded politically pays apes stiller dating defeat sport catches mickey clown roman discuss karen clumsy chaos financial official trees explaining models spirits carl jeffrey duty whale funeral secondly sentence 2007 classes sidekick tracks props travels flies remarkably smaller wallace awake 1996 brady blatant decisions afford notion recorded glorious enterprise maggie consistently toys offended officers danes backdrop beneath masters measure endings doomed mysteries lifestyle houses portion primarily satan hates devoid impress outer generic dutch punk lyrics yellow eastwood exotic represent instant desperation mixture settle frustration unfolds goodness wives directs fetched ape cheating dozens rebel cuba paulie enormous revolutionary hints shelf brooklyn florida dances motives destiny 1999 donna hardcore mill wrestling subtlety forty describes drops blake stinker doll painted fond linda principal rank ideal kennedy hammer montage hollywood's tie disjointed 3rd reaches amy immensely ginger judging companion communist urge winds developing trailers cliff lawrence stellar topless circle surviving avoided relations bold hideous voight closet et surfing melting soccer edie matches backgrounds planned enemies advance bull authority crush outfit emphasis method terrorist senseless pig uwe simplistic benefit adorable eighties ruthless godzilla blew countryside specifically wont performer hbo traveling todd practice diane fix faster 1980 commented sh loyal saga ties disappear awe earned buff rick loads link angeles corruption forms menace miserable claimed vast coach divorce hal gadget chorus limits cure introduces cards solo blues splatter april endure riveting dedicated tender winters illogical choreographed disappeared unsettling waters guessed lemmon involve transformation depressed rooms lasted displayed weakest leonard philosophical racial interaction arrogant tag rocket similarities hurts thoughtful realizing harvey justify hook survivors represented pot possibilities wore disappoint voiced kicked abysmal hamilton buffs safety widow ears nomination trashy honesty stereotype severe formulaic moody similarly stress pan chased isolated blond stinks mario passionate finger shirley march hank improve mann understandable characters' considerable scope holly diana grasp command solely 'em concern treats akshay promised colonel jonathan faults helicopter inventive sounding quotes trained switch celebrity tad swimming orson education aids nail judy cg user nervous nostalgic daddy alert amanda facing comparing unhappy preview report bonus purchase chess wet lately horrifying agrees thru dolls cinematographer ignorant species seed consistent downhill corporate photos confidence letters berlin dinosaur rotten taught fooled laws nicholson namely shake waited wished embarrassment everyone's boot pretending reaching someone's transfer sits armed del dub defend hart 35 constructed mall poetic motivations inane behave tonight staring humble snl elephant agents oz grandfather writes relation hop delivering fonda edgar cave artificial grinch sappy prize 1972 useful buildings li cake eager closest suitable raising destroying combine beatty pants cleverly ballet convincingly porno 1990 miike affect engage cd conservative wound arrived stevens alcoholic valuable ya reads scottish elegant vegas chest charlotte climactic tiresome z conflicts babe vengeance square bath secretly airport campbell kingdom september inferior 1968 latin plant button museum maintain wrapped kicking cheated global robbery virginia wells waves stilted blunt lena boom access raymond 1960s catching nicholas yelling scarecrow beliefs paranoia christians vice jumped lay iron steel lowest reflect closed mummy transition advertising vulnerable abusive 1970's spoke plight mars spread adams wizard poetry im sandra germans pokemon progresses 70 00 hung questionable remarks airplane centers potentially bottle chicago guarantee couples messed catchy slick gangsters misery blade designs construction ethan desired miracle carradine firstly scores wandering greedy recognition understated restored complexity madonna attitudes rendition hunters intentionally experiments ruby alongside vaguely inappropriate copies operation brutally taxi amounts stooges joined pearl demand crocodile depicts purchased acid myers exploration advise illegal balls king's gundam disney's gender lengthy survived hopper niro advanced simplicity bela parallel ocean slaughter rising witnesses chicks streep visible nostalgia arguably careful intimate online floating rubber june illness resources khan jaw newly witches showcase signed opinions dust eaten civilization shelley incomprehensible invasion lee's monkeys resort literature junior likewise homosexual family's viewings sue wisdom matched amitabh edition witnessed visits mistress 1983 demented basketball neighbors macy fascinated dreary suspicious accompanied worn mail challenging doom ensues manipulative robinson classical olivier agreed appreciation franco montana troops capturing alternate bands twilight ridden responsibility proceeds chapter jenny prisoners pops analysis subplots lively nuts prisoner incompetent damon sellers mayor rats simpson 90s persons feed descent reel bay assault losers widely rabbit smiling relatives excessive defined satisfy solution legal molly arrival overacting equivalent iran pit masterful capital richardson compelled plausible stale scrooge cities francis enthusiasm lone parties tomatoes channels hilariously rocky crucial dropping unit waitress domestic attorney bakshi serving wrap jaws historically 3d defense hello greed 1973 priceless sincere warmth paltrow gerard tends god's patients creep counter dalton kay whats louise peoples exceptionally nyc pal seeks terrorists lumet morris ninja randomly frequent despair irrelevant dressing pursuit prequel creativity imitation bumbling hyde property muslim wishing richards bargain 50s creator calm bacall gabriel mentioning rangers methods earl royal butler justin psychic chooses belong der photo polanski mundane specially mighty homer ear masterpieces generated leo improvement poem ham cliche marty caliber mentions minimum showdown borrowed elm icon brenda polished 1984 mechanical overlook loaded map recording craven tiger roth awfully suffice troubles introduce equipment ashley wendy pamela empathy phantom betty resident unreal ruins performs promises monk iraq hippie purposes marketing angela keith sink gifted opportunities garbo assigned feminist household wacky alfred absent sneak popularity trail inducing moronic wounded receives willis unseen stretched fulci unaware dimension dolph definition testament educational survivor attend clip contest petty 13th christy respected resist year's album expressed randy quit phony unoriginal punishment activities suspend rolled eastern 1933 instinct distinct championship tech doubts interests exposure travesty israel sixties pink orange resulting spain bergman\""
      ]
     },
     "execution_count": 76,
     "metadata": {},
     "output_type": "execute_result"
    }
   ],
   "source": [
    "decoded_words = \" \".join(inverted_word_index[i] for i in range(1,5000))\n",
    "decoded_words"
   ]
  },
  {
   "cell_type": "code",
   "execution_count": 19,
   "id": "d21ce196",
   "metadata": {},
   "outputs": [],
   "source": [
    "rank = feature_model.layers[0].weights[0].numpy()\n",
    "rank = numpy.abs(numpy.subtract(rank, 1))"
   ]
  },
  {
   "cell_type": "code",
   "execution_count": 50,
   "id": "dc6c28b9",
   "metadata": {
    "scrolled": true
   },
   "outputs": [
    {
     "name": "stdout",
     "output_type": "stream",
     "text": [
      "[1.1478653 0.6571847 1.4251717 ... 1.0432757 0.9588079 0.9078125]\n"
     ]
    },
    {
     "data": {
      "text/plain": [
       "array([ 513, 1169,  309,  724,  828,  858, 1179,   34, 1679,    4, 1212,\n",
       "        652,  658,  324,   29,  529,   68,  696,  422,  613, 1160,  760,\n",
       "       1951, 1260, 1873,  341, 1645,  687,  965, 1041,   35,  173, 1286,\n",
       "        553,  270,  260,   79,  546,  366,  245,   19,  872, 1471,   51,\n",
       "          0,  618, 1205,  561,  240, 1902,  388,  393, 1400,  190,  313,\n",
       "         33, 1849,  637,  633,  136,  137,   74, 1376,  419,  268,  914,\n",
       "        117,  315, 1673,  534,   63,  722, 1288,   56,  588,  291,  972,\n",
       "       1112,  194,  220,  492, 1577,   65,  337,  625,  430,  516,  703,\n",
       "        445,  799,  541, 1099,  628,  605,   15,  555,    2,   11,   36,\n",
       "         21])"
      ]
     },
     "execution_count": 50,
     "metadata": {},
     "output_type": "execute_result"
    }
   ],
   "source": [
    "rank = numpy.reshape(rank, (len(rank)))\n",
    "print(rank)\n",
    "a = rank.argsort()[-100:]\n",
    "a"
   ]
  },
  {
   "cell_type": "code",
   "execution_count": 29,
   "id": "67c6c474",
   "metadata": {},
   "outputs": [
    {
     "data": {
      "text/plain": [
       "'really upon thinks she please someone joke violent thought family works offers their completely david worse car cheap based editing voice moves english ok for god and this from not'"
      ]
     },
     "execution_count": 29,
     "metadata": {},
     "output_type": "execute_result"
    }
   ],
   "source": [
    "FI_words = \" \".join(inverted_word_index[i] for i in a)\n",
    "FI_words"
   ]
  },
  {
   "cell_type": "code",
   "execution_count": 39,
   "id": "3b231ea8",
   "metadata": {},
   "outputs": [
    {
     "data": {
      "text/plain": [
       "\"the as you with out themselves powerful lets loves their becomes reaching had journalist of lot from anyone to have after out atmosphere never more room titillate it so heart shows to years of every never going villaronga help moments or of every chest visual movie except her was several of enough more with is now current film as you of mine potentially unfortunately of you than him that with out themselves her get for was camp of you movie sometimes movie that with scary but pratfalls to story wonderful that in seeing in character to of 70s musicians with heart had shadows they of here that with her serious to have does when from why what have critics they is you that isn't one will very to as itself with other tricky in of seen over landed for anyone of gilmore's br show's to whether from than out themselves history he name half some br of 'n odd was two most of mean for 1 any an boat she he should is thought frog but of script you not while history he heart to real at barrel but when from one bit then have two of script their with her nobody most that with wasn't to with armed acting watch an for with heartfelt film want an\""
      ]
     },
     "execution_count": 39,
     "metadata": {},
     "output_type": "execute_result"
    }
   ],
   "source": [
    "Case_words = \" \".join(inverted_word_index[i] for i in x_train[0])\n",
    "Case_words"
   ]
  },
  {
   "cell_type": "code",
   "execution_count": 16,
   "id": "5b7873a6",
   "metadata": {},
   "outputs": [],
   "source": [
    "INDEX_FROM=3 \n",
    "\n",
    "word_to_id = keras.datasets.imdb.get_word_index()\n",
    "word_to_id = {k:(v+INDEX_FROM) for k,v in word_to_id.items()}\n",
    "word_to_id[\"<PAD>\"] = 0\n",
    "word_to_id[\"<START>\"] = 1\n",
    "word_to_id[\"<UNK>\"] = 2\n",
    "word_to_id[\"<UNUSED>\"] = 3\n",
    "\n",
    "\n",
    "word_to_id={k:(v+INDEX_FROM-1) for k,v in word_to_id.items()}\n",
    "\n",
    "id_to_word = {value:key for key,value in word_to_id.items()}\n",
    "# print(id_to_word)\n",
    "\n",
    "# print(' '.join(id_to_word[id] for id in a ))"
   ]
  },
  {
   "cell_type": "markdown",
   "id": "e8419ed8",
   "metadata": {},
   "source": [
    "### Prove it - important words bank"
   ]
  },
  {
   "cell_type": "code",
   "execution_count": null,
   "id": "7d26f489",
   "metadata": {},
   "outputs": [],
   "source": [
    "tf-idf"
   ]
  },
  {
   "cell_type": "markdown",
   "id": "f5f1e567",
   "metadata": {},
   "source": [
    "### WordCloud"
   ]
  },
  {
   "cell_type": "code",
   "execution_count": null,
   "id": "caa487a8",
   "metadata": {},
   "outputs": [],
   "source": []
  },
  {
   "cell_type": "markdown",
   "id": "096338be",
   "metadata": {},
   "source": [
    "## Next Project - RNN in abstract"
   ]
  },
  {
   "cell_type": "code",
   "execution_count": null,
   "id": "0db29baa",
   "metadata": {},
   "outputs": [],
   "source": []
  },
  {
   "cell_type": "markdown",
   "id": "fbfd774f",
   "metadata": {},
   "source": [
    "### Random Forest"
   ]
  },
  {
   "cell_type": "code",
   "execution_count": 15,
   "id": "2ea5ae3a",
   "metadata": {},
   "outputs": [],
   "source": [
    "model_rf = RandomForestClassifier(random_state=3)\n",
    "model_rf.fit(X_train_one_hot, y_train)\n",
    "FI_RF = model_rf.feature_importances_"
   ]
  },
  {
   "cell_type": "markdown",
   "id": "4bf8d41c",
   "metadata": {},
   "source": [
    "### Permutation method"
   ]
  },
  {
   "cell_type": "markdown",
   "id": "5af995cc",
   "metadata": {},
   "source": [
    "#### Change each word in the word bank in each sentance randomly."
   ]
  },
  {
   "cell_type": "code",
   "execution_count": 16,
   "id": "a0f080ca",
   "metadata": {},
   "outputs": [
    {
     "data": {
      "text/plain": [
       "array([3.85809779e-01, 1.41579332e-02, 6.89648271e-01, ...,\n",
       "       4.94871114e-04, 7.00585719e-04, 5.89552335e-04])"
      ]
     },
     "execution_count": 16,
     "metadata": {},
     "output_type": "execute_result"
    }
   ],
   "source": [
    "weights_perm = np.load('RNN_perm_output.npy')\n",
    "rank = weights_perm[:,0]\n",
    "rank"
   ]
  },
  {
   "cell_type": "code",
   "execution_count": 78,
   "id": "00ca18d8",
   "metadata": {},
   "outputs": [],
   "source": [
    "from copy import copy\n",
    "import numpy as np\n",
    "from numpy import arange\n",
    "\n",
    "from scipy.spatial.distance import cdist,pdist\n",
    "from scipy.stats import levene, pearsonr\n",
    "\n",
    "from pandas import Series, DataFrame\n",
    "\n",
    "from matplotlib import cm\n",
    "from matplotlib import pyplot as plt\n",
    "import matplotlib.image as mpimg\n",
    "from mpl_toolkits.mplot3d import Axes3D\n",
    "\n",
    "\n",
    "\n",
    "\n",
    "def plot_feature_importance(ft_set, feature_importance, show_cols = 30):\n",
    "    \n",
    "    fig = plt.figure(figsize=(5,4))\n",
    "    w_lr_sort, ft_sorted, _ = return_feature_importance(ft_set, feature_importance, show_cols = show_cols)\n",
    "    x_val = list(range(len(w_lr_sort)))\n",
    "    \n",
    "    for i in range(show_cols+1):\n",
    "        plt.text(-0.3+i, 2, ft_sorted[i], rotation=90, fontsize=12)\n",
    "\n",
    "    plt.ylabel('Ranking', fontsize=12)\n",
    "\n",
    "    plt.bar(x_val, w_lr_sort)\n",
    "    plt.xticks(fontsize=12)\n",
    "    plt.yticks(fontsize=12)\n",
    "    plt.xticks(x_val)\n",
    "    \n",
    "    return fig\n",
    "\n",
    "def plot_feature_importance_reverse(ft_set, feature_importance, show_cols = 30):\n",
    "    \n",
    "    fig = plt.figure(figsize=(5,4))\n",
    "    w_lr_sort, ft_sorted, _ = return_feature_importance(ft_set, feature_importance, show_cols = show_cols)\n",
    "    x_val = list(range(len(w_lr_sort)))\n",
    "    \n",
    "    for i in range(show_cols+1):\n",
    "        plt.text(-0.3+i, 2, ft_sorted[i], rotation=90, fontsize=12)\n",
    "    plt.ylabel('Ranking', fontsize=12)\n",
    "\n",
    "    plt.bar(x_val, w_lr_sort, color='r')\n",
    "    plt.xticks(fontsize=12)\n",
    "    plt.yticks(fontsize=12)\n",
    "    plt.xticks(x_val)\n",
    "    \n",
    "    return fig\n",
    "\n",
    "def return_feature_importance(ft_set, feature_importance, show_cols = 30):\n",
    "\n",
    "    w_lr = copy(np.abs(feature_importance))\n",
    "    w_lr = 100 * (w_lr / w_lr.max())\n",
    "    sorted_index_pos = [index for index, num in sorted(enumerate(w_lr), key=lambda x: x[-1], \n",
    "                   reverse=True)]\n",
    "\n",
    "    ft_sorted = []\n",
    "    w_lr_sort = []\n",
    "    for i, idx in enumerate(sorted_index_pos):\n",
    "        if i > show_cols:\n",
    "            break\n",
    "        ft_sorted.append(ft_set[idx])\n",
    "        w_lr_sort.append(w_lr[idx])\n",
    "\n",
    "    return w_lr_sort, ft_sorted, sorted_index_pos\n",
    "\n",
    "\n"
   ]
  },
  {
   "cell_type": "code",
   "execution_count": 17,
   "id": "15217867",
   "metadata": {},
   "outputs": [
    {
     "data": {
      "text/plain": [
       "(1000, 2000)"
      ]
     },
     "execution_count": 17,
     "metadata": {},
     "output_type": "execute_result"
    }
   ],
   "source": [
    "weights1 = np.load('RNN_weights_output_1.npy')\n",
    "weights2 = np.load('RNN_weights_output_2.npy')\n",
    "weights1 = weights1.reshape((1000,2000))\n",
    "weights2 = weights2.reshape((1000,2000))\n",
    "np.shape(weights1)"
   ]
  },
  {
   "cell_type": "code",
   "execution_count": 18,
   "id": "a94960b2",
   "metadata": {},
   "outputs": [],
   "source": [
    "weights_out = np.concatenate((weights1, weights2))"
   ]
  },
  {
   "cell_type": "code",
   "execution_count": 19,
   "id": "75c25c56",
   "metadata": {},
   "outputs": [
    {
     "data": {
      "text/plain": [
       "array([0.00061151, 0.04106976, 0.06509471, ..., 0.0843712 , 0.06504337,\n",
       "       0.04813837], dtype=float32)"
      ]
     },
     "execution_count": 19,
     "metadata": {},
     "output_type": "execute_result"
    }
   ],
   "source": [
    "weights_std = np.std(weights_out, axis=0)\n",
    "weights_std"
   ]
  },
  {
   "cell_type": "code",
   "execution_count": 20,
   "id": "63833b73",
   "metadata": {},
   "outputs": [
    {
     "data": {
      "text/plain": [
       "array([0.09645646, 0.38612035, 0.82791466, ..., 0.23346642, 0.0073278 ,\n",
       "       0.05645176], dtype=float32)"
      ]
     },
     "execution_count": 20,
     "metadata": {},
     "output_type": "execute_result"
    }
   ],
   "source": [
    "weights_mean = weights_out.mean(axis=0)\n",
    "weights_mean"
   ]
  },
  {
   "cell_type": "code",
   "execution_count": 21,
   "id": "267ff792",
   "metadata": {},
   "outputs": [
    {
     "data": {
      "text/plain": [
       "array([0.90354425, 0.6138798 , 0.1723628 , ..., 0.7665343 , 0.9926729 ,\n",
       "       0.9435478 ], dtype=float32)"
      ]
     },
     "execution_count": 21,
     "metadata": {},
     "output_type": "execute_result"
    }
   ],
   "source": [
    "weights_scaled = np.abs(np.subtract(weights_out, 1)).mean(axis=0)\n",
    "weights_scaled"
   ]
  },
  {
   "cell_type": "code",
   "execution_count": 22,
   "id": "ea215d5e",
   "metadata": {},
   "outputs": [
    {
     "name": "stderr",
     "output_type": "stream",
     "text": [
      "/var/folders/92/lnpv663963531g350q66gj300000gn/T/ipykernel_24095/583969378.py:1: RuntimeWarning: invalid value encountered in true_divide\n",
      "  weights_importance = np.abs((weights_mean)/(weights_std*weights_scaled))\n"
     ]
    }
   ],
   "source": [
    "weights_importance = np.abs((weights_mean)/(weights_std*weights_scaled))"
   ]
  },
  {
   "cell_type": "code",
   "execution_count": 23,
   "id": "41053252",
   "metadata": {},
   "outputs": [],
   "source": [
    "from scipy.linalg import lu\n",
    "from scipy.linalg import solve\n",
    "\n",
    "weights_out = np.insert(weights_out, 0, np.ones(2000), 0)\n",
    "pl, weights_contribution = lu(weights_out, permute_l=True)"
   ]
  },
  {
   "cell_type": "code",
   "execution_count": 25,
   "id": "46ce175e",
   "metadata": {},
   "outputs": [
    {
     "data": {
      "text/plain": [
       "array([238.74075952, -11.28891831,   3.53507014, ...,  -0.47062375,\n",
       "        -1.26654444,   0.97378652])"
      ]
     },
     "execution_count": 25,
     "metadata": {},
     "output_type": "execute_result"
    }
   ],
   "source": [
    "weights_cc = solve(weights_contribution[:2001], np.ones(2000))\n",
    "out"
   ]
  },
  {
   "cell_type": "code",
   "execution_count": 188,
   "id": "24e69e36",
   "metadata": {},
   "outputs": [],
   "source": [
    "def feature_selection(X, feature_importance, percent):\n",
    "    feature_importance = np.nan_to_num(feature_importance)\n",
    "    index = np.percentile(feature_importance, [percent])\n",
    "        \n",
    "    index_list = np.where(feature_importance>index)\n",
    "    index_list = np.reshape(index_list, (len(index_list[0])))\n",
    "    X_train=[]\n",
    "    for i in X:\n",
    "        i = np.array(i)\n",
    "        i = np.where(np.isin(i, index_list), 0, i)\n",
    "        i = np.reshape(i, (len(i))).tolist()\n",
    "        X_train.append(i)\n",
    "    return X_train\n",
    "\n",
    "\n"
   ]
  },
  {
   "cell_type": "code",
   "execution_count": 189,
   "id": "21897e39",
   "metadata": {},
   "outputs": [
    {
     "name": "stdout",
     "output_type": "stream",
     "text": [
      "Model: \"sequential_14\"\n",
      "_________________________________________________________________\n",
      " Layer (type)                Output Shape              Param #   \n",
      "=================================================================\n",
      " embedding_14 (Embedding)    (None, 200, 32)           64000     \n",
      "                                                                 \n",
      " lstm_13 (LSTM)              (None, 128)               82432     \n",
      "                                                                 \n",
      " dense_13 (Dense)            (None, 1)                 129       \n",
      "                                                                 \n",
      "=================================================================\n",
      "Total params: 146,561\n",
      "Trainable params: 146,561\n",
      "Non-trainable params: 0\n",
      "_________________________________________________________________\n",
      "Epoch 1/5\n",
      "196/196 [==============================] - 98s 476ms/step - loss: 0.6934 - accuracy: 0.4993\n",
      "Epoch 2/5\n",
      "196/196 [==============================] - 92s 469ms/step - loss: 0.6932 - accuracy: 0.4992\n",
      "Epoch 3/5\n",
      "196/196 [==============================] - 90s 460ms/step - loss: 0.6932 - accuracy: 0.4970\n",
      "Epoch 4/5\n",
      "196/196 [==============================] - 92s 468ms/step - loss: 0.6932 - accuracy: 0.4959\n",
      "Epoch 5/5\n",
      "196/196 [==============================] - 92s 471ms/step - loss: 0.6932 - accuracy: 0.5036\n",
      "Model: \"sequential_15\"\n",
      "_________________________________________________________________\n",
      " Layer (type)                Output Shape              Param #   \n",
      "=================================================================\n",
      " embedding_15 (Embedding)    (None, 200, 32)           64000     \n",
      "                                                                 \n",
      " lstm_14 (LSTM)              (None, 128)               82432     \n",
      "                                                                 \n",
      " dense_14 (Dense)            (None, 1)                 129       \n",
      "                                                                 \n",
      "=================================================================\n",
      "Total params: 146,561\n",
      "Trainable params: 146,561\n",
      "Non-trainable params: 0\n",
      "_________________________________________________________________\n",
      "Epoch 1/5\n",
      "196/196 [==============================] - 114s 473ms/step - loss: 0.6934 - accuracy: 0.4936\n",
      "Epoch 2/5\n",
      "196/196 [==============================] - 93s 477ms/step - loss: 0.6933 - accuracy: 0.5024\n",
      "Epoch 3/5\n",
      "196/196 [==============================] - 96s 489ms/step - loss: 0.6932 - accuracy: 0.4967\n",
      "Epoch 4/5\n",
      "196/196 [==============================] - 95s 485ms/step - loss: 0.6932 - accuracy: 0.4947\n",
      "Epoch 5/5\n",
      "196/196 [==============================] - 91s 465ms/step - loss: 0.6932 - accuracy: 0.4982\n",
      "Model: \"sequential_16\"\n",
      "_________________________________________________________________\n",
      " Layer (type)                Output Shape              Param #   \n",
      "=================================================================\n",
      " embedding_16 (Embedding)    (None, 200, 32)           64000     \n",
      "                                                                 \n",
      " lstm_15 (LSTM)              (None, 128)               82432     \n",
      "                                                                 \n",
      " dense_15 (Dense)            (None, 1)                 129       \n",
      "                                                                 \n",
      "=================================================================\n",
      "Total params: 146,561\n",
      "Trainable params: 146,561\n",
      "Non-trainable params: 0\n",
      "_________________________________________________________________\n",
      "Epoch 1/5\n",
      "196/196 [==============================] - 93s 458ms/step - loss: 0.6933 - accuracy: 0.5028\n",
      "Epoch 2/5\n",
      "196/196 [==============================] - 92s 469ms/step - loss: 0.6932 - accuracy: 0.4987\n",
      "Epoch 3/5\n",
      "196/196 [==============================] - 93s 473ms/step - loss: 0.6933 - accuracy: 0.5002\n",
      "Epoch 4/5\n",
      "196/196 [==============================] - 93s 472ms/step - loss: 0.6933 - accuracy: 0.5043\n",
      "Epoch 5/5\n",
      "196/196 [==============================] - 91s 464ms/step - loss: 0.6932 - accuracy: 0.4955\n",
      "Model: \"sequential_17\"\n",
      "_________________________________________________________________\n",
      " Layer (type)                Output Shape              Param #   \n",
      "=================================================================\n",
      " embedding_17 (Embedding)    (None, 200, 32)           64000     \n",
      "                                                                 \n",
      " lstm_16 (LSTM)              (None, 128)               82432     \n",
      "                                                                 \n",
      " dense_16 (Dense)            (None, 1)                 129       \n",
      "                                                                 \n",
      "=================================================================\n",
      "Total params: 146,561\n",
      "Trainable params: 146,561\n",
      "Non-trainable params: 0\n",
      "_________________________________________________________________\n",
      "Epoch 1/5\n",
      "196/196 [==============================] - 96s 476ms/step - loss: 0.6934 - accuracy: 0.4949\n",
      "Epoch 2/5\n",
      "196/196 [==============================] - 92s 472ms/step - loss: 0.6932 - accuracy: 0.4972\n",
      "Epoch 3/5\n",
      "196/196 [==============================] - 94s 479ms/step - loss: 0.6932 - accuracy: 0.4953\n",
      "Epoch 4/5\n",
      "196/196 [==============================] - 92s 470ms/step - loss: 0.6932 - accuracy: 0.4996\n",
      "Epoch 5/5\n",
      "196/196 [==============================] - 92s 468ms/step - loss: 0.6932 - accuracy: 0.5053\n",
      "Model: \"sequential_18\"\n",
      "_________________________________________________________________\n",
      " Layer (type)                Output Shape              Param #   \n",
      "=================================================================\n",
      " embedding_18 (Embedding)    (None, 200, 32)           64000     \n",
      "                                                                 \n",
      " lstm_17 (LSTM)              (None, 128)               82432     \n",
      "                                                                 \n",
      " dense_17 (Dense)            (None, 1)                 129       \n",
      "                                                                 \n",
      "=================================================================\n",
      "Total params: 146,561\n",
      "Trainable params: 146,561\n",
      "Non-trainable params: 0\n",
      "_________________________________________________________________\n",
      "Epoch 1/5\n",
      "196/196 [==============================] - 97s 474ms/step - loss: 0.6933 - accuracy: 0.5022\n",
      "Epoch 2/5\n",
      "196/196 [==============================] - 93s 474ms/step - loss: 0.6932 - accuracy: 0.5006\n",
      "Epoch 3/5\n",
      "196/196 [==============================] - 94s 479ms/step - loss: 0.6932 - accuracy: 0.4986\n",
      "Epoch 4/5\n",
      "196/196 [==============================] - 92s 471ms/step - loss: 0.6932 - accuracy: 0.4973\n",
      "Epoch 5/5\n",
      "196/196 [==============================] - 92s 467ms/step - loss: 0.6932 - accuracy: 0.5050\n",
      "Model: \"sequential_19\"\n",
      "_________________________________________________________________\n",
      " Layer (type)                Output Shape              Param #   \n",
      "=================================================================\n",
      " embedding_19 (Embedding)    (None, 200, 32)           64000     \n",
      "                                                                 \n",
      " lstm_18 (LSTM)              (None, 128)               82432     \n",
      "                                                                 \n",
      " dense_18 (Dense)            (None, 1)                 129       \n",
      "                                                                 \n",
      "=================================================================\n",
      "Total params: 146,561\n",
      "Trainable params: 146,561\n",
      "Non-trainable params: 0\n",
      "_________________________________________________________________\n",
      "Epoch 1/5\n",
      "196/196 [==============================] - 96s 475ms/step - loss: 0.6933 - accuracy: 0.5022\n",
      "Epoch 2/5\n",
      "196/196 [==============================] - 92s 467ms/step - loss: 0.6933 - accuracy: 0.4966\n",
      "Epoch 3/5\n",
      "196/196 [==============================] - 86s 437ms/step - loss: 0.6933 - accuracy: 0.4997\n",
      "Epoch 4/5\n",
      "196/196 [==============================] - 70s 355ms/step - loss: 0.6933 - accuracy: 0.4880\n",
      "Epoch 5/5\n",
      "196/196 [==============================] - 69s 354ms/step - loss: 0.6932 - accuracy: 0.5025\n",
      "Model: \"sequential_20\"\n",
      "_________________________________________________________________\n",
      " Layer (type)                Output Shape              Param #   \n",
      "=================================================================\n"
     ]
    },
    {
     "name": "stdout",
     "output_type": "stream",
     "text": [
      " embedding_20 (Embedding)    (None, 200, 32)           64000     \n",
      "                                                                 \n",
      " lstm_19 (LSTM)              (None, 128)               82432     \n",
      "                                                                 \n",
      " dense_19 (Dense)            (None, 1)                 129       \n",
      "                                                                 \n",
      "=================================================================\n",
      "Total params: 146,561\n",
      "Trainable params: 146,561\n",
      "Non-trainable params: 0\n",
      "_________________________________________________________________\n",
      "Epoch 1/5\n",
      "196/196 [==============================] - 75s 364ms/step - loss: 0.6934 - accuracy: 0.4980\n",
      "Epoch 2/5\n",
      "196/196 [==============================] - 70s 356ms/step - loss: 0.6932 - accuracy: 0.4989\n",
      "Epoch 3/5\n",
      "196/196 [==============================] - 69s 352ms/step - loss: 0.6932 - accuracy: 0.5037\n",
      "Epoch 4/5\n",
      "196/196 [==============================] - 69s 353ms/step - loss: 0.6933 - accuracy: 0.4994\n",
      "Epoch 5/5\n",
      "196/196 [==============================] - 69s 352ms/step - loss: 0.6932 - accuracy: 0.4960\n",
      "Model: \"sequential_21\"\n",
      "_________________________________________________________________\n",
      " Layer (type)                Output Shape              Param #   \n",
      "=================================================================\n",
      " embedding_21 (Embedding)    (None, 200, 32)           64000     \n",
      "                                                                 \n",
      " lstm_20 (LSTM)              (None, 128)               82432     \n",
      "                                                                 \n",
      " dense_20 (Dense)            (None, 1)                 129       \n",
      "                                                                 \n",
      "=================================================================\n",
      "Total params: 146,561\n",
      "Trainable params: 146,561\n",
      "Non-trainable params: 0\n",
      "_________________________________________________________________\n",
      "Epoch 1/5\n",
      "196/196 [==============================] - 72s 351ms/step - loss: 0.6934 - accuracy: 0.4996\n",
      "Epoch 2/5\n",
      "196/196 [==============================] - 69s 352ms/step - loss: 0.6933 - accuracy: 0.4947\n",
      "Epoch 3/5\n",
      "196/196 [==============================] - 69s 353ms/step - loss: 0.6933 - accuracy: 0.4971\n",
      "Epoch 4/5\n",
      "196/196 [==============================] - 70s 356ms/step - loss: 0.6932 - accuracy: 0.4993\n",
      "Epoch 5/5\n",
      "196/196 [==============================] - 70s 356ms/step - loss: 0.6932 - accuracy: 0.4958\n",
      "Model: \"sequential_22\"\n",
      "_________________________________________________________________\n",
      " Layer (type)                Output Shape              Param #   \n",
      "=================================================================\n",
      " embedding_22 (Embedding)    (None, 200, 32)           64000     \n",
      "                                                                 \n",
      " lstm_21 (LSTM)              (None, 128)               82432     \n",
      "                                                                 \n",
      " dense_21 (Dense)            (None, 1)                 129       \n",
      "                                                                 \n",
      "=================================================================\n",
      "Total params: 146,561\n",
      "Trainable params: 146,561\n",
      "Non-trainable params: 0\n",
      "_________________________________________________________________\n",
      "Epoch 1/5\n",
      "196/196 [==============================] - 73s 358ms/step - loss: 0.6931 - accuracy: 0.5067\n",
      "Epoch 2/5\n",
      "196/196 [==============================] - 70s 358ms/step - loss: 0.6932 - accuracy: 0.5020\n",
      "Epoch 3/5\n",
      "196/196 [==============================] - 71s 362ms/step - loss: 0.6932 - accuracy: 0.5030\n",
      "Epoch 4/5\n",
      "196/196 [==============================] - 70s 356ms/step - loss: 0.6932 - accuracy: 0.5065\n",
      "Epoch 5/5\n",
      "196/196 [==============================] - 70s 357ms/step - loss: 0.6932 - accuracy: 0.4954\n",
      "Model: \"sequential_23\"\n",
      "_________________________________________________________________\n",
      " Layer (type)                Output Shape              Param #   \n",
      "=================================================================\n",
      " embedding_23 (Embedding)    (None, 200, 32)           64000     \n",
      "                                                                 \n",
      " lstm_22 (LSTM)              (None, 128)               82432     \n",
      "                                                                 \n",
      " dense_22 (Dense)            (None, 1)                 129       \n",
      "                                                                 \n",
      "=================================================================\n",
      "Total params: 146,561\n",
      "Trainable params: 146,561\n",
      "Non-trainable params: 0\n",
      "_________________________________________________________________\n",
      "Epoch 1/5\n",
      "196/196 [==============================] - 73s 356ms/step - loss: 0.6933 - accuracy: 0.4980\n",
      "Epoch 2/5\n",
      "196/196 [==============================] - 71s 361ms/step - loss: 0.6933 - accuracy: 0.4968\n",
      "Epoch 3/5\n",
      "196/196 [==============================] - 70s 358ms/step - loss: 0.6932 - accuracy: 0.4988\n",
      "Epoch 4/5\n",
      "196/196 [==============================] - 71s 360ms/step - loss: 0.6932 - accuracy: 0.4975\n",
      "Epoch 5/5\n",
      "196/196 [==============================] - 71s 360ms/step - loss: 0.6932 - accuracy: 0.4988\n",
      "Model: \"sequential_24\"\n",
      "_________________________________________________________________\n",
      " Layer (type)                Output Shape              Param #   \n",
      "=================================================================\n",
      " embedding_24 (Embedding)    (None, 200, 32)           64000     \n",
      "                                                                 \n",
      " lstm_23 (LSTM)              (None, 128)               82432     \n",
      "                                                                 \n",
      " dense_23 (Dense)            (None, 1)                 129       \n",
      "                                                                 \n",
      "=================================================================\n",
      "Total params: 146,561\n",
      "Trainable params: 146,561\n",
      "Non-trainable params: 0\n",
      "_________________________________________________________________\n",
      "Epoch 1/5\n",
      "196/196 [==============================] - 73s 358ms/step - loss: 0.6933 - accuracy: 0.4953\n",
      "Epoch 2/5\n",
      "196/196 [==============================] - 69s 354ms/step - loss: 0.6933 - accuracy: 0.4997\n",
      "Epoch 3/5\n",
      "196/196 [==============================] - 75s 380ms/step - loss: 0.6932 - accuracy: 0.4974\n",
      "Epoch 4/5\n",
      "196/196 [==============================] - 70s 358ms/step - loss: 0.6932 - accuracy: 0.5007\n",
      "Epoch 5/5\n",
      "196/196 [==============================] - 72s 367ms/step - loss: 0.6932 - accuracy: 0.5027\n",
      "Model: \"sequential_25\"\n",
      "_________________________________________________________________\n",
      " Layer (type)                Output Shape              Param #   \n",
      "=================================================================\n",
      " embedding_25 (Embedding)    (None, 200, 32)           64000     \n",
      "                                                                 \n",
      " lstm_24 (LSTM)              (None, 128)               82432     \n",
      "                                                                 \n",
      " dense_24 (Dense)            (None, 1)                 129       \n",
      "                                                                 \n",
      "=================================================================\n",
      "Total params: 146,561\n",
      "Trainable params: 146,561\n",
      "Non-trainable params: 0\n",
      "_________________________________________________________________\n",
      "Epoch 1/5\n",
      "196/196 [==============================] - 76s 358ms/step - loss: 0.6934 - accuracy: 0.5014\n",
      "Epoch 2/5\n",
      "196/196 [==============================] - 70s 358ms/step - loss: 0.6933 - accuracy: 0.4988\n",
      "Epoch 3/5\n",
      "196/196 [==============================] - 70s 359ms/step - loss: 0.6932 - accuracy: 0.4947\n",
      "Epoch 4/5\n",
      "196/196 [==============================] - 70s 359ms/step - loss: 0.6932 - accuracy: 0.5022\n",
      "Epoch 5/5\n",
      "196/196 [==============================] - 70s 360ms/step - loss: 0.6932 - accuracy: 0.4977\n"
     ]
    }
   ],
   "source": [
    "importance = [weights_importance, weights_cc, FI_RF, rank]\n",
    "output = {}\n",
    "# truncate and pad input sequences\n",
    "for i in [40, 60, 80]:\n",
    "    for index, j in enumerate(importance):\n",
    "        X_train_important = feature_selection(X_train, j, i)\n",
    "        X_test_important = feature_selection(X_test, j, i)\n",
    "        max_review_length = 200\n",
    "        X_train = sequence.pad_sequences(X_train_important, maxlen=max_review_length)\n",
    "        X_test = sequence.pad_sequences(X_test_important, maxlen=max_review_length)\n",
    "        embedding_vecor_length = 32\n",
    "        base_model = Sequential()\n",
    "        base_model.add(Embedding(NUM_WORDS, embedding_vecor_length, input_length=max_review_length))\n",
    "        base_model.add(LSTM(128, dropout=0.2, recurrent_dropout=0.2))\n",
    "        base_model.add(Dense(1, activation='sigmoid'))\n",
    "        base_model.compile(loss='binary_crossentropy', optimizer='adam', metrics=['accuracy'])\n",
    "        base_model.summary()\n",
    "        name = i+index\n",
    "        output[name]=base_model.fit(X_train, y_train, epochs=5, batch_size=128)"
   ]
  },
  {
   "cell_type": "code",
   "execution_count": 194,
   "id": "a52b0138",
   "metadata": {},
   "outputs": [
    {
     "data": {
      "text/plain": [
       "<matplotlib.legend.Legend at 0x161f10340>"
      ]
     },
     "execution_count": 194,
     "metadata": {},
     "output_type": "execute_result"
    },
    {
     "data": {
      "image/png": "[encoded data removed]",
      "text/plain": [
       "<Figure size 432x288 with 1 Axes>"
      ]
     },
     "metadata": {},
     "output_type": "display_data"
    }
   ],
   "source": [
    "plt.plot(output[60].history['loss'], label=0)\n",
    "plt.plot(output[61].history['loss'], label=1)\n",
    "plt.plot(output[62].history['loss'], label=2)\n",
    "plt.plot(output[63].history['loss'], label=3)\n",
    "plt.legend()"
   ]
  },
  {
   "cell_type": "code",
   "execution_count": null,
   "id": "588f9c9d",
   "metadata": {},
   "outputs": [],
   "source": []
  }
 ],
 "metadata": {
  "kernelspec": {
   "display_name": "Python 3 (ipykernel)",
   "language": "python",
   "name": "python3"
  },
  "language_info": {
   "codemirror_mode": {
    "name": "ipython",
    "version": 3
   },
   "file_extension": ".py",
   "mimetype": "text/x-python",
   "name": "python",
   "nbconvert_exporter": "python",
   "pygments_lexer": "ipython3",
   "version": "3.9.7"
  }
 },
 "nbformat": 4,
 "nbformat_minor": 5
}
