{
 "cells": [
  {
   "cell_type": "code",
   "execution_count": 55,
   "id": "155b6b92",
   "metadata": {},
   "outputs": [],
   "source": [
    "# For each pixel, if it is isolated, then I claim it's an outlier\n",
    "# non-adaptive interpolation method, depending on the surrounding pixels\n",
    "\n",
    "def unimportant_list_extraction(img,percentage):\n",
    "    index = np.percentile(img,[percentage])\n",
    "    itemindex = np.where(img<=index)\n",
    "    outliers = []\n",
    "    x = itemindex[1]\n",
    "    y = itemindex[0]\n",
    "    unimportant_list = list(zip(x, y))\n",
    "    return unimportant_list\n",
    "\n",
    "def outlier_detect(unimportant_list):\n",
    "    outliers = []\n",
    "    for a in unimportant_list:\n",
    "        a_left = (a[0]-1, a[1])\n",
    "        a_right = (a[0]+1, a[1])\n",
    "        a_top = (a[0], a[1]-1)\n",
    "        a_bottom = (a[0], a[1]+1)\n",
    "        if a_left not in unimportant_list and a_right not in unimportant_list and a_top not in unimportant_list and a_bottom not in unimportant_list:\n",
    "            outliers.append(a)\n",
    "    return outliers\n",
    "    \n",
    "def interpolation(unimportant_list):\n",
    "    all_points = list((x,y) for y in range(28) for x in range(28))\n",
    "    for i in unimportant_list:\n",
    "        all_points.remove(i)\n",
    "    unimportant_ones = []\n",
    "    for a in all_points:\n",
    "        a_left = (a[0]-1, a[1])\n",
    "        a_right = (a[0]+1, a[1])\n",
    "        a_top = (a[0], a[1]-1)\n",
    "        a_bottom = (a[0], a[1]+1)\n",
    "        if a_left in unimportant_list and a_right in unimportant_list and a_top in unimportant_list and a_bottom in unimportant_list:\n",
    "            unimportant_ones.append(a)\n",
    "    return unimportant_ones\n",
    "\n",
    "\n",
    "def unimportant_final(img, index):\n",
    "    unimportant_list = unimportant_list_extraction(img, index)\n",
    "    outliers = outlier_detect(unimportant_list)\n",
    "    for outlier in outliers:\n",
    "        unimportant_list.remove(outlier)\n",
    "    unimportant_ones = interpolation(unimportant_list)\n",
    "    if unimportant_ones != []:\n",
    "        return np.concatenate((unimportant_list, unimportant_ones))\n",
    "    return np.array(unimportant_list)\n",
    "\n",
    "    \n",
    "def collect_info(x_train, unimportan_list, model, x_test, y_test):\n",
    "\n",
    "    x_train[:, unimportan_list[:, 0], unimportan_list[:,1]] = 0\n",
    "    x_test[:, unimportan_list[:, 0], unimportan_list[:,1]] = 0\n",
    "    x_train = x_train.reshape(-1, 28*28)\n",
    "    x_test = x_test.reshape(-1, 28*28)\n",
    "    \n",
    "    model.compile(loss=\"categorical_crossentropy\", optimizer=\"adam\", metrics=[\"accuracy\"])\n",
    "    history = model.fit(x_train, y_train, batch_size=batch_size, epochs=epochs, validation_data=(x_test, y_test), callbacks=[earlycp])\n",
    "    return history.history['val_accuracy'][-1]\n",
    "\n",
    "\n",
    "    \n",
    "def collect_info_rf(x_train, unimportan_list, model, x_test, y_test):\n",
    "\n",
    "    x_train[:, unimportan_list[:, 0], unimportan_list[:,1]] = 0\n",
    "    x_test[:, unimportan_list[:, 0], unimportan_list[:,1]] = 0\n",
    "    x_train = x_train.reshape(-1, 28*28)\n",
    "    x_test = x_test.reshape(-1, 28*28)\n",
    "    \n",
    "    model.fit(x_train, y_train)\n",
    "    \n",
    "    preds = model.predict(x_test)\n",
    "    \n",
    "    return accuracy_score(y_test,preds)"
   ]
  },
  {
   "cell_type": "code",
   "execution_count": 79,
   "id": "60e4c478",
   "metadata": {},
   "outputs": [],
   "source": [
    "import tensorflow as tf\n",
    "import numpy as np\n",
    "num_classes = 10\n",
    "(x_train, y_train), (x_test, y_test) = tf.keras.datasets.mnist.load_data()\n",
    "\n",
    "# Scale images to the [0, 1] range\n",
    "x_train = x_train.astype(\"float32\") / 255\n",
    "x_test = x_test.astype(\"float32\") / 255\n",
    "# Make sure images have shape (28, 28, 1)\n",
    "x_train = np.expand_dims(x_train, -1)\n",
    "x_test = np.expand_dims(x_test, -1)\n",
    "# y_train = tf.keras.utils.to_categorical(y_train, num_classes)\n",
    "# y_test = tf.keras.utils.to_categorical(y_test, num_classes)\n",
    "x_train = x_train.reshape(-1, 28*28)\n",
    "x_test = x_test.reshape(-1, 28*28)"
   ]
  },
  {
   "cell_type": "code",
   "execution_count": 34,
   "id": "5f283c2b",
   "metadata": {},
   "outputs": [],
   "source": [
    "from keras.models import Sequential\n",
    "from keras.layers import Dense\n",
    "\n",
    "def make_model():\n",
    "    model = Sequential()\n",
    "    model.add(Dense(512, input_dim=28*28, activation='relu', name='Hidden-1'))\n",
    "    model.add(Dense(256, activation='relu', name='Hidden-2'))\n",
    "    model.add(Dense(10, activation='softmax', name='Output'))\n",
    "    return model"
   ]
  },
  {
   "cell_type": "code",
   "execution_count": 17,
   "id": "2dbf3b45",
   "metadata": {},
   "outputs": [
    {
     "name": "stdout",
     "output_type": "stream",
     "text": [
      "(60000, 10)\n",
      "Epoch 1/500\n",
      "469/469 [==============================] - 2s 3ms/step - loss: 0.2273 - accuracy: 0.9340 - val_loss: 0.1105 - val_accuracy: 0.9634\n",
      "Epoch 2/500\n",
      "469/469 [==============================] - 1s 3ms/step - loss: 0.0818 - accuracy: 0.9757 - val_loss: 0.0796 - val_accuracy: 0.9744\n",
      "Epoch 3/500\n",
      "469/469 [==============================] - 1s 3ms/step - loss: 0.0529 - accuracy: 0.9833 - val_loss: 0.0702 - val_accuracy: 0.9778\n",
      "Epoch 4/500\n",
      "469/469 [==============================] - 1s 3ms/step - loss: 0.0369 - accuracy: 0.9882 - val_loss: 0.0590 - val_accuracy: 0.9817\n",
      "Epoch 5/500\n",
      "469/469 [==============================] - 2s 3ms/step - loss: 0.0259 - accuracy: 0.9918 - val_loss: 0.0740 - val_accuracy: 0.9795\n",
      "Epoch 6/500\n",
      "469/469 [==============================] - 1s 3ms/step - loss: 0.0227 - accuracy: 0.9925 - val_loss: 0.0680 - val_accuracy: 0.9815\n",
      "Epoch 7/500\n",
      "469/469 [==============================] - 1s 3ms/step - loss: 0.0173 - accuracy: 0.9941 - val_loss: 0.0806 - val_accuracy: 0.9795\n",
      "Epoch 8/500\n",
      "469/469 [==============================] - 1s 3ms/step - loss: 0.0152 - accuracy: 0.9948 - val_loss: 0.0767 - val_accuracy: 0.9795\n",
      "Epoch 9/500\n",
      "469/469 [==============================] - 1s 3ms/step - loss: 0.0143 - accuracy: 0.9950 - val_loss: 0.0783 - val_accuracy: 0.9809\n",
      "Epoch 10/500\n",
      "469/469 [==============================] - 1s 3ms/step - loss: 0.0121 - accuracy: 0.9960 - val_loss: 0.0732 - val_accuracy: 0.9816\n",
      "Epoch 11/500\n",
      "469/469 [==============================] - 1s 3ms/step - loss: 0.0123 - accuracy: 0.9959 - val_loss: 0.0728 - val_accuracy: 0.9811\n",
      "Epoch 12/500\n",
      "469/469 [==============================] - 1s 3ms/step - loss: 0.0099 - accuracy: 0.9969 - val_loss: 0.0733 - val_accuracy: 0.9821\n",
      "Epoch 13/500\n",
      "469/469 [==============================] - 1s 3ms/step - loss: 0.0119 - accuracy: 0.9958 - val_loss: 0.0843 - val_accuracy: 0.9817\n",
      "Epoch 14/500\n",
      "469/469 [==============================] - 2s 3ms/step - loss: 0.0059 - accuracy: 0.9983 - val_loss: 0.0872 - val_accuracy: 0.9825\n",
      "Epoch 15/500\n",
      "469/469 [==============================] - 1s 3ms/step - loss: 0.0062 - accuracy: 0.9980 - val_loss: 0.0913 - val_accuracy: 0.9808\n",
      "Epoch 16/500\n",
      "469/469 [==============================] - 2s 3ms/step - loss: 0.0104 - accuracy: 0.9968 - val_loss: 0.0849 - val_accuracy: 0.9819\n",
      "Epoch 17/500\n",
      "469/469 [==============================] - 2s 3ms/step - loss: 0.0094 - accuracy: 0.9970 - val_loss: 0.0810 - val_accuracy: 0.9831\n",
      "Epoch 18/500\n",
      "469/469 [==============================] - 1s 3ms/step - loss: 0.0091 - accuracy: 0.9970 - val_loss: 0.0771 - val_accuracy: 0.9839\n",
      "Epoch 19/500\n",
      "469/469 [==============================] - 1s 3ms/step - loss: 0.0049 - accuracy: 0.9985 - val_loss: 0.0874 - val_accuracy: 0.9833\n",
      "Epoch 20/500\n",
      "469/469 [==============================] - 1s 3ms/step - loss: 0.0040 - accuracy: 0.9987 - val_loss: 0.0891 - val_accuracy: 0.9812\n",
      "Epoch 21/500\n",
      "469/469 [==============================] - 2s 3ms/step - loss: 0.0094 - accuracy: 0.9973 - val_loss: 0.0919 - val_accuracy: 0.9810\n",
      "Epoch 22/500\n",
      "469/469 [==============================] - 2s 4ms/step - loss: 0.0088 - accuracy: 0.9973 - val_loss: 0.0870 - val_accuracy: 0.9849\n",
      "Epoch 23/500\n",
      "469/469 [==============================] - 2s 4ms/step - loss: 0.0030 - accuracy: 0.9989 - val_loss: 0.0955 - val_accuracy: 0.9846\n",
      "Epoch 24/500\n",
      "469/469 [==============================] - 2s 3ms/step - loss: 0.0047 - accuracy: 0.9986 - val_loss: 0.1052 - val_accuracy: 0.9815\n",
      "Epoch 25/500\n",
      "469/469 [==============================] - 2s 3ms/step - loss: 0.0113 - accuracy: 0.9966 - val_loss: 0.0976 - val_accuracy: 0.9800\n",
      "Epoch 26/500\n",
      "469/469 [==============================] - 1s 3ms/step - loss: 0.0047 - accuracy: 0.9985 - val_loss: 0.1041 - val_accuracy: 0.9809\n",
      "Epoch 27/500\n",
      "469/469 [==============================] - 2s 3ms/step - loss: 0.0027 - accuracy: 0.9991 - val_loss: 0.0854 - val_accuracy: 0.9833\n",
      "Epoch 28/500\n",
      "469/469 [==============================] - 1s 3ms/step - loss: 0.0034 - accuracy: 0.9988 - val_loss: 0.1029 - val_accuracy: 0.9806\n",
      "Epoch 29/500\n",
      "469/469 [==============================] - 1s 3ms/step - loss: 0.0079 - accuracy: 0.9976 - val_loss: 0.1287 - val_accuracy: 0.9775\n",
      "Epoch 30/500\n",
      "469/469 [==============================] - 2s 3ms/step - loss: 0.0072 - accuracy: 0.9978 - val_loss: 0.1062 - val_accuracy: 0.9814\n",
      "Epoch 31/500\n",
      "469/469 [==============================] - 1s 3ms/step - loss: 0.0040 - accuracy: 0.9987 - val_loss: 0.1348 - val_accuracy: 0.9798\n",
      "Epoch 32/500\n",
      "469/469 [==============================] - 1s 3ms/step - loss: 0.0055 - accuracy: 0.9985 - val_loss: 0.1121 - val_accuracy: 0.9815\n"
     ]
    }
   ],
   "source": [
    "batch_size = 128\n",
    "\n",
    "epochs = 500\n",
    "\n",
    "earlycp = tf.keras.callbacks.EarlyStopping(\n",
    "        monitor='accuracy', min_delta=0, patience=5, verbose=0,\n",
    "        mode='auto', baseline=None, restore_best_weights=False\n",
    "    )\n",
    "\n",
    "\n",
    "\n",
    "print(np.shape(y_train))\n",
    "model.compile(loss=\"categorical_crossentropy\", optimizer=\"adam\", metrics=[\"accuracy\"])\n",
    "history = model.fit(x_train, y_train, batch_size=batch_size, epochs=epochs, validation_data=(x_test, y_test), callbacks=[earlycp])\n"
   ]
  },
  {
   "cell_type": "code",
   "execution_count": 23,
   "id": "88593692",
   "metadata": {},
   "outputs": [
    {
     "name": "stderr",
     "output_type": "stream",
     "text": [
      "/var/folders/92/lnpv663963531g350q66gj300000gn/T/ipykernel_68946/2378982151.py:11: RuntimeWarning: invalid value encountered in true_divide\n",
      "  img = img/(weights_std*img_abs)\n"
     ]
    },
    {
     "data": {
      "image/png": "[encoded data removed]",
      "text/plain": [
       "<Figure size 432x288 with 1 Axes>"
      ]
     },
     "metadata": {
      "needs_background": "light"
     },
     "output_type": "display_data"
    }
   ],
   "source": [
    "import matplotlib.pyplot as plt\n",
    "\n",
    "# load results from saved file\n",
    "file = open('weights_constraints_all_image.txt', \"rb\")\n",
    "# read the file to numpy array\n",
    "arr1 = np.load(file)\n",
    "# close the file\n",
    "img = sum(arr1)/800\n",
    "weights_std = np.std(arr1, axis=0)\n",
    "img_abs = abs(img-1)\n",
    "img = img/(weights_std*img_abs)\n",
    "img = np.nan_to_num(img)\n",
    "plt.imshow(img)\n",
    "# plt.colorbar(img)\n",
    "plt.axis('off')\n",
    "plt.show()\n"
   ]
  },
  {
   "cell_type": "code",
   "execution_count": 76,
   "id": "63a48632",
   "metadata": {},
   "outputs": [],
   "source": [
    "percent = range(10,100,10)\n",
    "acc_list = []\n",
    "for i in percent:\n",
    "    model = RandomForestClassifier(max_depth=10)\n",
    "    num_classes = 10\n",
    "    (x_train, y_train), (x_test, y_test) = tf.keras.datasets.mnist.load_data()\n",
    "\n",
    "    # Scale images to the [0, 1] range\n",
    "    x_train = x_train.astype(\"float32\") / 255\n",
    "    x_test = x_test.astype(\"float32\") / 255\n",
    "    # Make sure images have shape (28, 28, 1)\n",
    "    x_train = np.expand_dims(x_train, -1)\n",
    "    x_test = np.expand_dims(x_test, -1)\n",
    "\n",
    "\n",
    "    \n",
    "    final_list = unimportant_final(img, i)\n",
    "    \n",
    "    acc = collect_info_rf(x_train, final_list, model, x_test, y_test)\n",
    "    acc_list.append(acc)"
   ]
  },
  {
   "cell_type": "code",
   "execution_count": 77,
   "id": "0115601a",
   "metadata": {},
   "outputs": [
    {
     "data": {
      "text/plain": [
       "[0.9476, 0.9479, 0.9476, 0.9472, 0.9483, 0.9481, 0.9444, 0.9262, 0.8737]"
      ]
     },
     "execution_count": 77,
     "metadata": {},
     "output_type": "execute_result"
    }
   ],
   "source": [
    "acc_list"
   ]
  },
  {
   "cell_type": "code",
   "execution_count": 74,
   "id": "6ca65b72",
   "metadata": {},
   "outputs": [
    {
     "data": {
      "text/plain": [
       "RandomForestClassifier(max_depth=2)"
      ]
     },
     "execution_count": 74,
     "metadata": {},
     "output_type": "execute_result"
    }
   ],
   "source": [
    "model = RandomForestClassifier(max_depth=10)\n",
    "model.fit(x)"
   ]
  },
  {
   "cell_type": "code",
   "execution_count": null,
   "id": "de51cec4",
   "metadata": {},
   "outputs": [],
   "source": []
  },
  {
   "cell_type": "code",
   "execution_count": 39,
   "id": "9d2ec01a",
   "metadata": {},
   "outputs": [
    {
     "data": {
      "text/plain": [
       "[0.9832000136375427,\n",
       " 0.9832000136375427,\n",
       " 0.9818999767303467,\n",
       " 0.98089998960495,\n",
       " 0.9829999804496765,\n",
       " 0.9824000000953674,\n",
       " 0.978600025177002,\n",
       " 0.9750000238418579,\n",
       " 0.9394000172615051]"
      ]
     },
     "execution_count": 39,
     "metadata": {},
     "output_type": "execute_result"
    }
   ],
   "source": [
    "# ANN results"
   ]
  },
  {
   "cell_type": "code",
   "execution_count": null,
   "id": "054660c1",
   "metadata": {},
   "outputs": [],
   "source": []
  },
  {
   "cell_type": "code",
   "execution_count": null,
   "id": "6794cc86",
   "metadata": {},
   "outputs": [],
   "source": []
  },
  {
   "cell_type": "code",
   "execution_count": 89,
   "id": "da1d62ae",
   "metadata": {},
   "outputs": [
    {
     "name": "stdout",
     "output_type": "stream",
     "text": [
      "10\n"
     ]
    },
    {
     "data": {
      "text/plain": [
       "MiniBatchKMeans(n_clusters=10)"
      ]
     },
     "execution_count": 89,
     "metadata": {},
     "output_type": "execute_result"
    }
   ],
   "source": [
    "from sklearn.cluster import MiniBatchKMeans\n",
    "(x_train, y_train), (x_test, y_test) = tf.keras.datasets.mnist.load_data()\n",
    "X = x_train.reshape(len(x_train),-1)\n",
    "Y = y_train\n",
    "\n",
    "# normalize the data to 0 - 1\n",
    "X = X.astype(float) / 255.\n",
    "\n",
    "n_digits = len(np.unique(y_test))\n",
    "print(n_digits)\n",
    "\n",
    "# Initialize KMeans model\n",
    "kmeans = MiniBatchKMeans(n_clusters = n_digits)\n",
    "\n",
    "# Fit the model to the training data\n",
    "kmeans.fit(X)"
   ]
  },
  {
   "cell_type": "code",
   "execution_count": 90,
   "id": "9dfb5ae7",
   "metadata": {},
   "outputs": [],
   "source": [
    "def infer_cluster_labels(kmeans, actual_labels):\n",
    "    \"\"\"\n",
    "    Associates most probable label with each cluster in KMeans model\n",
    "    returns: dictionary of clusters assigned to each label\n",
    "    \"\"\"\n",
    "\n",
    "    inferred_labels = {}\n",
    "\n",
    "    for i in range(kmeans.n_clusters):\n",
    "\n",
    "        # find index of points in cluster\n",
    "        labels = []\n",
    "        index = np.where(kmeans.labels_ == i)\n",
    "\n",
    "        # append actual labels for each point in cluster\n",
    "        labels.append(actual_labels[index])\n",
    "\n",
    "        # determine most common label\n",
    "        if len(labels[0]) == 1:\n",
    "            counts = np.bincount(labels[0])\n",
    "        else:\n",
    "            counts = np.bincount(np.squeeze(labels))\n",
    "\n",
    "        # assign the cluster to a value in the inferred_labels dictionary\n",
    "        if np.argmax(counts) in inferred_labels:\n",
    "            # append the new number to the existing array at this slot\n",
    "            inferred_labels[np.argmax(counts)].append(i)\n",
    "        else:\n",
    "            # create a new array in this slot\n",
    "            inferred_labels[np.argmax(counts)] = [i]\n",
    "\n",
    "        #print(labels)\n",
    "        #print('Cluster: {}, label: {}'.format(i, np.argmax(counts)))\n",
    "        \n",
    "    return inferred_labels  \n",
    "\n",
    "def infer_data_labels(X_labels, cluster_labels):\n",
    "    \"\"\"\n",
    "    Determines label for each array, depending on the cluster it has been assigned to.\n",
    "    returns: predicted labels for each array\n",
    "    \"\"\"\n",
    "    \n",
    "    # empty array of len(X)\n",
    "    predicted_labels = np.zeros(len(X_labels)).astype(np.uint8)\n",
    "    \n",
    "    for i, cluster in enumerate(X_labels):\n",
    "        for key, value in cluster_labels.items():\n",
    "            if cluster in value:\n",
    "                predicted_labels[i] = key\n",
    "                \n",
    "    return predicted_labels"
   ]
  },
  {
   "cell_type": "code",
   "execution_count": 92,
   "id": "8d5417ea",
   "metadata": {},
   "outputs": [
    {
     "name": "stdout",
     "output_type": "stream",
     "text": [
      "[3 0 4 1 9 2 1 3 1 7 3 1 3 6 1 7 2 8 6 7]\n",
      "[5 0 4 1 9 2 1 3 1 4 3 5 3 6 1 7 2 8 6 9]\n"
     ]
    }
   ],
   "source": [
    "# test the infer_cluster_labels() and infer_data_labels() functions\n",
    "cluster_labels = infer_cluster_labels(kmeans, Y)\n",
    "X_clusters = kmeans.predict(X)\n",
    "predicted_labels = infer_data_labels(X_clusters, cluster_labels)\n",
    "print(predicted_labels[:20])\n",
    "print (Y[:20])"
   ]
  },
  {
   "cell_type": "code",
   "execution_count": 94,
   "id": "3260624d",
   "metadata": {},
   "outputs": [],
   "source": [
    "from sklearn import metrics\n",
    "\n",
    "def calculate_metrics(estimator, data, labels):\n",
    "\n",
    "    # Calculate and print metrics\n",
    "    print('Number of Clusters: {}'.format(estimator.n_clusters))\n",
    "    print('Inertia: {}'.format(estimator.inertia_))\n",
    "    print('Homogeneity: {}'.format(metrics.homogeneity_score(labels, estimator.labels_)))"
   ]
  },
  {
   "cell_type": "code",
   "execution_count": 96,
   "id": "a4b5b32a",
   "metadata": {},
   "outputs": [
    {
     "name": "stdout",
     "output_type": "stream",
     "text": [
      "Accuracy: 0.9006\n",
      "\n"
     ]
    }
   ],
   "source": [
    "# test kmeans algorithm on testing dataset\n",
    "# convert each image to 1 dimensional array\n",
    "X_test = x_test.reshape(len(x_test),-1)\n",
    "\n",
    "# normalize the data to 0 - 1\n",
    "X_test = X_test.astype(float) / 255.\n",
    "\n",
    "# initialize and fit KMeans algorithm on training data\n",
    "kmeans = MiniBatchKMeans(n_clusters = 256)\n",
    "kmeans.fit(X)\n",
    "cluster_labels = infer_cluster_labels(kmeans, Y)\n",
    "\n",
    "# predict labels for testing data\n",
    "test_clusters = kmeans.predict(X_test)\n",
    "predicted_labels = infer_data_labels(kmeans.predict(X_test), cluster_labels)\n",
    "    \n",
    "# calculate and print accuracy\n",
    "metrics.accuracy_score(y_test, predicted_labels)"
   ]
  },
  {
   "cell_type": "code",
   "execution_count": 107,
   "id": "4b091d27",
   "metadata": {},
   "outputs": [],
   "source": [
    "def collect_info_kmeans(x_train, y_train, unimportan_list, model, x_test, y_test):\n",
    "\n",
    "    x_train[:, unimportan_list[:, 0], unimportan_list[:,1]] = 0\n",
    "    x_test[:, unimportan_list[:, 0], unimportan_list[:,1]] = 0\n",
    "    \n",
    "\n",
    "    X = x_train.reshape(len(x_train),-1)\n",
    "    X = X.astype(float) / 255.\n",
    "    Y = y_train\n",
    "    model.fit(X)\n",
    "    \n",
    "    cluster_labels = infer_cluster_labels(kmeans, Y)\n",
    "\n",
    "    # predict labels for testing data\n",
    "    test_clusters = kmeans.predict(X_test)\n",
    "    predicted_labels = infer_data_labels(kmeans.predict(X_test), cluster_labels)\n",
    "    print(metrics.accuracy_score(y_test, predicted_labels))\n",
    "    # calculate and print accuracy\n",
    "    \n",
    "    \n",
    "    return metrics.accuracy_score(y_test, predicted_labels)"
   ]
  },
  {
   "cell_type": "code",
   "execution_count": 108,
   "id": "e02c4a0b",
   "metadata": {},
   "outputs": [
    {
     "name": "stdout",
     "output_type": "stream",
     "text": [
      "0.8921\n",
      "0.9008\n",
      "0.896\n",
      "0.8981\n",
      "0.9028\n",
      "0.8936\n",
      "0.8986\n",
      "0.8776\n",
      "0.7665\n"
     ]
    }
   ],
   "source": [
    "percent = range(10,100,10)\n",
    "acc_list_kmeans = []\n",
    "for i in percent:\n",
    "    kmeans = MiniBatchKMeans(n_clusters = 256)\n",
    "    \n",
    "    (x_train, y_train), (x_test, y_test) = tf.keras.datasets.mnist.load_data()\n",
    "\n",
    "    \n",
    "# normalize the data to 0 - 1\n",
    "    final_list = unimportant_final(img, i)\n",
    "    \n",
    "    acc = collect_info_kmeans(x_train, y_train, final_list, kmeans, x_test, y_test)\n",
    "    acc_list_kmeans.append(acc)"
   ]
  },
  {
   "cell_type": "code",
   "execution_count": 121,
   "id": "617c6d57",
   "metadata": {},
   "outputs": [
    {
     "data": {
      "image/png": "[encoded data removed]",
      "text/plain": [
       "<Figure size 432x288 with 1 Axes>"
      ]
     },
     "metadata": {
      "needs_background": "light"
     },
     "output_type": "display_data"
    }
   ],
   "source": [
    "# Plot curve\n",
    "\n",
    "x = percent \n",
    "# Plotting the Graph\n",
    "plt.plot(x, acc_list_kmeans, label = \"K-means\")\n",
    "plt.plot(x, acc_rf, label = \"Random forest\")\n",
    "plt.plot(x, acc_cnn, label = \"CNN\")\n",
    "plt.plot(x, acc_ann, label = \"ANN\")\n",
    "plt.legend()\n",
    "plt.xlabel(\"Percentage of unimportant features\")\n",
    "plt.ylabel(\"Val_acc\")\n",
    "plt.savefig(f'./unimportant_results/all/image_plot_comp', dpi = 300, bbox_inches='tight')\n"
   ]
  },
  {
   "cell_type": "code",
   "execution_count": 109,
   "id": "fe62e569",
   "metadata": {},
   "outputs": [
    {
     "data": {
      "text/plain": [
       "[0.8921, 0.9008, 0.896, 0.8981, 0.9028, 0.8936, 0.8986, 0.8776, 0.7665]"
      ]
     },
     "execution_count": 109,
     "metadata": {},
     "output_type": "execute_result"
    }
   ],
   "source": [
    "acc_list_kmeans"
   ]
  },
  {
   "cell_type": "code",
   "execution_count": 113,
   "id": "0d390287",
   "metadata": {},
   "outputs": [],
   "source": [
    "acc_rf = acc_list"
   ]
  },
  {
   "cell_type": "code",
   "execution_count": null,
   "id": "3930af99",
   "metadata": {},
   "outputs": [],
   "source": [
    "acc_list_kmeans"
   ]
  },
  {
   "cell_type": "code",
   "execution_count": 116,
   "id": "ab9dedd1",
   "metadata": {},
   "outputs": [],
   "source": [
    "acc_ann=[0.9832000136375427,\n",
    " 0.9832000136375427,\n",
    " 0.9818999767303467,\n",
    " 0.98089998960495,\n",
    " 0.9829999804496765,\n",
    " 0.9824000000953674,\n",
    " 0.978600025177002,\n",
    " 0.9750000238418579,\n",
    " 0.9394000172615051]"
   ]
  },
  {
   "cell_type": "code",
   "execution_count": 117,
   "id": "335db845",
   "metadata": {},
   "outputs": [],
   "source": [
    "acc_cnn=[0.9926000237464905,\n",
    " 0.9922999739646912,\n",
    " 0.9925000071525574,\n",
    " 0.9925000071525574,\n",
    " 0.9912999868392944,\n",
    " 0.9918000102043152,\n",
    " 0.9876999855041504,\n",
    " 0.9785000085830688,\n",
    " 0.9229000210762024]"
   ]
  },
  {
   "cell_type": "code",
   "execution_count": null,
   "id": "dff7ccb1",
   "metadata": {},
   "outputs": [],
   "source": [
    "acc_resnet = [11.43, 11.44, 11.60, 11.71, 11.75, 11.80, 11.99, 12.20, 12.78]\n",
    "acc_vgg = [11.63, 11.62, 11.72, 11.65, 11.65, 11.82, 11.73, 11.84, 11.88]\n",
    "acc_alex = [11.52, 12.29, 12.36, 12.25, 12.24, 12.69, 12.27, 12.72, 12.83]"
   ]
  }
 ],
 "metadata": {
  "kernelspec": {
   "display_name": "Python 3 (ipykernel)",
   "language": "python",
   "name": "python3"
  },
  "language_info": {
   "codemirror_mode": {
    "name": "ipython",
    "version": 3
   },
   "file_extension": ".py",
   "mimetype": "text/x-python",
   "name": "python",
   "nbconvert_exporter": "python",
   "pygments_lexer": "ipython3",
   "version": "3.9.7"
  }
 },
 "nbformat": 4,
 "nbformat_minor": 5
}
